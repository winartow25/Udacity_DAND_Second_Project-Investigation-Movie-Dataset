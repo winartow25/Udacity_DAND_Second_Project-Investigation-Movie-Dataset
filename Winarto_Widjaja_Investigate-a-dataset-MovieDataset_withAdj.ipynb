{
 "cells": [
  {
   "cell_type": "markdown",
   "metadata": {},
   "source": [
    "# Project: Investigate a Dataset - TMDb Movie Dataset\n",
    "\n",
    "## Table of Contents\n",
    "<ul>\n",
    "<li><a href=\"#intro\">Introduction</a></li>\n",
    "<li><a href=\"#wrangling\">Data Wrangling</a></li>\n",
    "<li><a href=\"#eda\">Exploratory Data Analysis</a></li>\n",
    "<li><a href=\"#conclusions\">Conclusions</a></li>\n",
    "</ul>"
   ]
  },
  {
   "cell_type": "markdown",
   "metadata": {},
   "source": [
    "<a id='intro'></a>\n",
    "## Introduction"
   ]
  },
  {
   "cell_type": "markdown",
   "metadata": {},
   "source": [
    "#### Questions that can be addressed using this dataset:"
   ]
  },
  {
   "cell_type": "markdown",
   "metadata": {},
   "source": [
    "Q1: How is the popularity of movies over the years?\n",
    "\n",
    "Q2: What are recommendation movie's properties to achieve commercial success?\n",
    "- Investigation on which genre that has become the most commercial successful movie\n",
    "- Investigation on which cast that has become the most commercial successful movie\n",
    "- Investigation on which production company that has become the most commercial successful movie\n",
    "- Investigation on which director that has become the most commercial successful movie\n",
    "- Investigation on what budget level is required to become the most commercial successful movie\n",
    "\n",
    "Q3: What are Top 15 favourite movies over the years?\n",
    "\n",
    "Q4: Which Genres is the most popular among the generations?"
   ]
  },
  {
   "cell_type": "markdown",
   "metadata": {},
   "source": [
    "<a id='wrangling'></a>\n",
    "## Data Wrangling\n",
    "\n",
    "\n",
    "### General Properties"
   ]
  },
  {
   "cell_type": "code",
   "execution_count": 1,
   "metadata": {},
   "outputs": [],
   "source": [
    "import pandas as pd\n",
    "import numpy as np\n",
    "import matplotlib.pyplot as plt\n",
    "import seaborn as sns \n",
    "%matplotlib inline\n"
   ]
  },
  {
   "cell_type": "code",
   "execution_count": 68,
   "metadata": {},
   "outputs": [
    {
     "data": {
      "text/html": [
       "<div>\n",
       "<style scoped>\n",
       "    .dataframe tbody tr th:only-of-type {\n",
       "        vertical-align: middle;\n",
       "    }\n",
       "\n",
       "    .dataframe tbody tr th {\n",
       "        vertical-align: top;\n",
       "    }\n",
       "\n",
       "    .dataframe thead th {\n",
       "        text-align: right;\n",
       "    }\n",
       "</style>\n",
       "<table border=\"1\" class=\"dataframe\">\n",
       "  <thead>\n",
       "    <tr style=\"text-align: right;\">\n",
       "      <th></th>\n",
       "      <th>id</th>\n",
       "      <th>imdb_id</th>\n",
       "      <th>popularity</th>\n",
       "      <th>budget</th>\n",
       "      <th>revenue</th>\n",
       "      <th>original_title</th>\n",
       "      <th>cast</th>\n",
       "      <th>homepage</th>\n",
       "      <th>director</th>\n",
       "      <th>tagline</th>\n",
       "      <th>...</th>\n",
       "      <th>overview</th>\n",
       "      <th>runtime</th>\n",
       "      <th>genres</th>\n",
       "      <th>production_companies</th>\n",
       "      <th>release_date</th>\n",
       "      <th>vote_count</th>\n",
       "      <th>vote_average</th>\n",
       "      <th>release_year</th>\n",
       "      <th>budget_adj</th>\n",
       "      <th>revenue_adj</th>\n",
       "    </tr>\n",
       "  </thead>\n",
       "  <tbody>\n",
       "    <tr>\n",
       "      <th>0</th>\n",
       "      <td>135397</td>\n",
       "      <td>tt0369610</td>\n",
       "      <td>32.985763</td>\n",
       "      <td>150000000</td>\n",
       "      <td>1513528810</td>\n",
       "      <td>Jurassic World</td>\n",
       "      <td>Chris Pratt|Bryce Dallas Howard|Irrfan Khan|Vi...</td>\n",
       "      <td>http://www.jurassicworld.com/</td>\n",
       "      <td>Colin Trevorrow</td>\n",
       "      <td>The park is open.</td>\n",
       "      <td>...</td>\n",
       "      <td>Twenty-two years after the events of Jurassic ...</td>\n",
       "      <td>124</td>\n",
       "      <td>Action|Adventure|Science Fiction|Thriller</td>\n",
       "      <td>Universal Studios|Amblin Entertainment|Legenda...</td>\n",
       "      <td>6/9/15</td>\n",
       "      <td>5562</td>\n",
       "      <td>6.5</td>\n",
       "      <td>2015</td>\n",
       "      <td>1.379999e+08</td>\n",
       "      <td>1.392446e+09</td>\n",
       "    </tr>\n",
       "    <tr>\n",
       "      <th>1</th>\n",
       "      <td>76341</td>\n",
       "      <td>tt1392190</td>\n",
       "      <td>28.419936</td>\n",
       "      <td>150000000</td>\n",
       "      <td>378436354</td>\n",
       "      <td>Mad Max: Fury Road</td>\n",
       "      <td>Tom Hardy|Charlize Theron|Hugh Keays-Byrne|Nic...</td>\n",
       "      <td>http://www.madmaxmovie.com/</td>\n",
       "      <td>George Miller</td>\n",
       "      <td>What a Lovely Day.</td>\n",
       "      <td>...</td>\n",
       "      <td>An apocalyptic story set in the furthest reach...</td>\n",
       "      <td>120</td>\n",
       "      <td>Action|Adventure|Science Fiction|Thriller</td>\n",
       "      <td>Village Roadshow Pictures|Kennedy Miller Produ...</td>\n",
       "      <td>5/13/15</td>\n",
       "      <td>6185</td>\n",
       "      <td>7.1</td>\n",
       "      <td>2015</td>\n",
       "      <td>1.379999e+08</td>\n",
       "      <td>3.481613e+08</td>\n",
       "    </tr>\n",
       "    <tr>\n",
       "      <th>2</th>\n",
       "      <td>262500</td>\n",
       "      <td>tt2908446</td>\n",
       "      <td>13.112507</td>\n",
       "      <td>110000000</td>\n",
       "      <td>295238201</td>\n",
       "      <td>Insurgent</td>\n",
       "      <td>Shailene Woodley|Theo James|Kate Winslet|Ansel...</td>\n",
       "      <td>http://www.thedivergentseries.movie/#insurgent</td>\n",
       "      <td>Robert Schwentke</td>\n",
       "      <td>One Choice Can Destroy You</td>\n",
       "      <td>...</td>\n",
       "      <td>Beatrice Prior must confront her inner demons ...</td>\n",
       "      <td>119</td>\n",
       "      <td>Adventure|Science Fiction|Thriller</td>\n",
       "      <td>Summit Entertainment|Mandeville Films|Red Wago...</td>\n",
       "      <td>3/18/15</td>\n",
       "      <td>2480</td>\n",
       "      <td>6.3</td>\n",
       "      <td>2015</td>\n",
       "      <td>1.012000e+08</td>\n",
       "      <td>2.716190e+08</td>\n",
       "    </tr>\n",
       "    <tr>\n",
       "      <th>3</th>\n",
       "      <td>140607</td>\n",
       "      <td>tt2488496</td>\n",
       "      <td>11.173104</td>\n",
       "      <td>200000000</td>\n",
       "      <td>2068178225</td>\n",
       "      <td>Star Wars: The Force Awakens</td>\n",
       "      <td>Harrison Ford|Mark Hamill|Carrie Fisher|Adam D...</td>\n",
       "      <td>http://www.starwars.com/films/star-wars-episod...</td>\n",
       "      <td>J.J. Abrams</td>\n",
       "      <td>Every generation has a story.</td>\n",
       "      <td>...</td>\n",
       "      <td>Thirty years after defeating the Galactic Empi...</td>\n",
       "      <td>136</td>\n",
       "      <td>Action|Adventure|Science Fiction|Fantasy</td>\n",
       "      <td>Lucasfilm|Truenorth Productions|Bad Robot</td>\n",
       "      <td>12/15/15</td>\n",
       "      <td>5292</td>\n",
       "      <td>7.5</td>\n",
       "      <td>2015</td>\n",
       "      <td>1.839999e+08</td>\n",
       "      <td>1.902723e+09</td>\n",
       "    </tr>\n",
       "    <tr>\n",
       "      <th>4</th>\n",
       "      <td>168259</td>\n",
       "      <td>tt2820852</td>\n",
       "      <td>9.335014</td>\n",
       "      <td>190000000</td>\n",
       "      <td>1506249360</td>\n",
       "      <td>Furious 7</td>\n",
       "      <td>Vin Diesel|Paul Walker|Jason Statham|Michelle ...</td>\n",
       "      <td>http://www.furious7.com/</td>\n",
       "      <td>James Wan</td>\n",
       "      <td>Vengeance Hits Home</td>\n",
       "      <td>...</td>\n",
       "      <td>Deckard Shaw seeks revenge against Dominic Tor...</td>\n",
       "      <td>137</td>\n",
       "      <td>Action|Crime|Thriller</td>\n",
       "      <td>Universal Pictures|Original Film|Media Rights ...</td>\n",
       "      <td>4/1/15</td>\n",
       "      <td>2947</td>\n",
       "      <td>7.3</td>\n",
       "      <td>2015</td>\n",
       "      <td>1.747999e+08</td>\n",
       "      <td>1.385749e+09</td>\n",
       "    </tr>\n",
       "    <tr>\n",
       "      <th>5</th>\n",
       "      <td>281957</td>\n",
       "      <td>tt1663202</td>\n",
       "      <td>9.110700</td>\n",
       "      <td>135000000</td>\n",
       "      <td>532950503</td>\n",
       "      <td>The Revenant</td>\n",
       "      <td>Leonardo DiCaprio|Tom Hardy|Will Poulter|Domhn...</td>\n",
       "      <td>http://www.foxmovies.com/movies/the-revenant</td>\n",
       "      <td>Alejandro GonzÃ¡lez IÃ±Ã¡rritu</td>\n",
       "      <td>(n. One who has returned, as if from the dead.)</td>\n",
       "      <td>...</td>\n",
       "      <td>In the 1820s, a frontiersman, Hugh Glass, sets...</td>\n",
       "      <td>156</td>\n",
       "      <td>Western|Drama|Adventure|Thriller</td>\n",
       "      <td>Regency Enterprises|Appian Way|CatchPlay|Anony...</td>\n",
       "      <td>12/25/15</td>\n",
       "      <td>3929</td>\n",
       "      <td>7.2</td>\n",
       "      <td>2015</td>\n",
       "      <td>1.241999e+08</td>\n",
       "      <td>4.903142e+08</td>\n",
       "    </tr>\n",
       "    <tr>\n",
       "      <th>6</th>\n",
       "      <td>87101</td>\n",
       "      <td>tt1340138</td>\n",
       "      <td>8.654359</td>\n",
       "      <td>155000000</td>\n",
       "      <td>440603537</td>\n",
       "      <td>Terminator Genisys</td>\n",
       "      <td>Arnold Schwarzenegger|Jason Clarke|Emilia Clar...</td>\n",
       "      <td>http://www.terminatormovie.com/</td>\n",
       "      <td>Alan Taylor</td>\n",
       "      <td>Reset the future</td>\n",
       "      <td>...</td>\n",
       "      <td>The year is 2029. John Connor, leader of the r...</td>\n",
       "      <td>125</td>\n",
       "      <td>Science Fiction|Action|Thriller|Adventure</td>\n",
       "      <td>Paramount Pictures|Skydance Productions</td>\n",
       "      <td>6/23/15</td>\n",
       "      <td>2598</td>\n",
       "      <td>5.8</td>\n",
       "      <td>2015</td>\n",
       "      <td>1.425999e+08</td>\n",
       "      <td>4.053551e+08</td>\n",
       "    </tr>\n",
       "    <tr>\n",
       "      <th>7</th>\n",
       "      <td>286217</td>\n",
       "      <td>tt3659388</td>\n",
       "      <td>7.667400</td>\n",
       "      <td>108000000</td>\n",
       "      <td>595380321</td>\n",
       "      <td>The Martian</td>\n",
       "      <td>Matt Damon|Jessica Chastain|Kristen Wiig|Jeff ...</td>\n",
       "      <td>http://www.foxmovies.com/movies/the-martian</td>\n",
       "      <td>Ridley Scott</td>\n",
       "      <td>Bring Him Home</td>\n",
       "      <td>...</td>\n",
       "      <td>During a manned mission to Mars, Astronaut Mar...</td>\n",
       "      <td>141</td>\n",
       "      <td>Drama|Adventure|Science Fiction</td>\n",
       "      <td>Twentieth Century Fox Film Corporation|Scott F...</td>\n",
       "      <td>9/30/15</td>\n",
       "      <td>4572</td>\n",
       "      <td>7.6</td>\n",
       "      <td>2015</td>\n",
       "      <td>9.935996e+07</td>\n",
       "      <td>5.477497e+08</td>\n",
       "    </tr>\n",
       "    <tr>\n",
       "      <th>8</th>\n",
       "      <td>211672</td>\n",
       "      <td>tt2293640</td>\n",
       "      <td>7.404165</td>\n",
       "      <td>74000000</td>\n",
       "      <td>1156730962</td>\n",
       "      <td>Minions</td>\n",
       "      <td>Sandra Bullock|Jon Hamm|Michael Keaton|Allison...</td>\n",
       "      <td>http://www.minionsmovie.com/</td>\n",
       "      <td>Kyle Balda|Pierre Coffin</td>\n",
       "      <td>Before Gru, they had a history of bad bosses</td>\n",
       "      <td>...</td>\n",
       "      <td>Minions Stuart, Kevin and Bob are recruited by...</td>\n",
       "      <td>91</td>\n",
       "      <td>Family|Animation|Adventure|Comedy</td>\n",
       "      <td>Universal Pictures|Illumination Entertainment</td>\n",
       "      <td>6/17/15</td>\n",
       "      <td>2893</td>\n",
       "      <td>6.5</td>\n",
       "      <td>2015</td>\n",
       "      <td>6.807997e+07</td>\n",
       "      <td>1.064192e+09</td>\n",
       "    </tr>\n",
       "    <tr>\n",
       "      <th>9</th>\n",
       "      <td>150540</td>\n",
       "      <td>tt2096673</td>\n",
       "      <td>6.326804</td>\n",
       "      <td>175000000</td>\n",
       "      <td>853708609</td>\n",
       "      <td>Inside Out</td>\n",
       "      <td>Amy Poehler|Phyllis Smith|Richard Kind|Bill Ha...</td>\n",
       "      <td>http://movies.disney.com/inside-out</td>\n",
       "      <td>Pete Docter</td>\n",
       "      <td>Meet the little voices inside your head.</td>\n",
       "      <td>...</td>\n",
       "      <td>Growing up can be a bumpy road, and it's no ex...</td>\n",
       "      <td>94</td>\n",
       "      <td>Comedy|Animation|Family</td>\n",
       "      <td>Walt Disney Pictures|Pixar Animation Studios|W...</td>\n",
       "      <td>6/9/15</td>\n",
       "      <td>3935</td>\n",
       "      <td>8.0</td>\n",
       "      <td>2015</td>\n",
       "      <td>1.609999e+08</td>\n",
       "      <td>7.854116e+08</td>\n",
       "    </tr>\n",
       "  </tbody>\n",
       "</table>\n",
       "<p>10 rows × 21 columns</p>\n",
       "</div>"
      ],
      "text/plain": [
       "       id    imdb_id  popularity     budget     revenue  \\\n",
       "0  135397  tt0369610   32.985763  150000000  1513528810   \n",
       "1   76341  tt1392190   28.419936  150000000   378436354   \n",
       "2  262500  tt2908446   13.112507  110000000   295238201   \n",
       "3  140607  tt2488496   11.173104  200000000  2068178225   \n",
       "4  168259  tt2820852    9.335014  190000000  1506249360   \n",
       "5  281957  tt1663202    9.110700  135000000   532950503   \n",
       "6   87101  tt1340138    8.654359  155000000   440603537   \n",
       "7  286217  tt3659388    7.667400  108000000   595380321   \n",
       "8  211672  tt2293640    7.404165   74000000  1156730962   \n",
       "9  150540  tt2096673    6.326804  175000000   853708609   \n",
       "\n",
       "                 original_title  \\\n",
       "0                Jurassic World   \n",
       "1            Mad Max: Fury Road   \n",
       "2                     Insurgent   \n",
       "3  Star Wars: The Force Awakens   \n",
       "4                     Furious 7   \n",
       "5                  The Revenant   \n",
       "6            Terminator Genisys   \n",
       "7                   The Martian   \n",
       "8                       Minions   \n",
       "9                    Inside Out   \n",
       "\n",
       "                                                cast  \\\n",
       "0  Chris Pratt|Bryce Dallas Howard|Irrfan Khan|Vi...   \n",
       "1  Tom Hardy|Charlize Theron|Hugh Keays-Byrne|Nic...   \n",
       "2  Shailene Woodley|Theo James|Kate Winslet|Ansel...   \n",
       "3  Harrison Ford|Mark Hamill|Carrie Fisher|Adam D...   \n",
       "4  Vin Diesel|Paul Walker|Jason Statham|Michelle ...   \n",
       "5  Leonardo DiCaprio|Tom Hardy|Will Poulter|Domhn...   \n",
       "6  Arnold Schwarzenegger|Jason Clarke|Emilia Clar...   \n",
       "7  Matt Damon|Jessica Chastain|Kristen Wiig|Jeff ...   \n",
       "8  Sandra Bullock|Jon Hamm|Michael Keaton|Allison...   \n",
       "9  Amy Poehler|Phyllis Smith|Richard Kind|Bill Ha...   \n",
       "\n",
       "                                            homepage  \\\n",
       "0                      http://www.jurassicworld.com/   \n",
       "1                        http://www.madmaxmovie.com/   \n",
       "2     http://www.thedivergentseries.movie/#insurgent   \n",
       "3  http://www.starwars.com/films/star-wars-episod...   \n",
       "4                           http://www.furious7.com/   \n",
       "5       http://www.foxmovies.com/movies/the-revenant   \n",
       "6                    http://www.terminatormovie.com/   \n",
       "7        http://www.foxmovies.com/movies/the-martian   \n",
       "8                       http://www.minionsmovie.com/   \n",
       "9                http://movies.disney.com/inside-out   \n",
       "\n",
       "                         director  \\\n",
       "0                 Colin Trevorrow   \n",
       "1                   George Miller   \n",
       "2                Robert Schwentke   \n",
       "3                     J.J. Abrams   \n",
       "4                       James Wan   \n",
       "5  Alejandro GonzÃ¡lez IÃ±Ã¡rritu   \n",
       "6                     Alan Taylor   \n",
       "7                    Ridley Scott   \n",
       "8        Kyle Balda|Pierre Coffin   \n",
       "9                     Pete Docter   \n",
       "\n",
       "                                           tagline  ...  \\\n",
       "0                                The park is open.  ...   \n",
       "1                               What a Lovely Day.  ...   \n",
       "2                       One Choice Can Destroy You  ...   \n",
       "3                    Every generation has a story.  ...   \n",
       "4                              Vengeance Hits Home  ...   \n",
       "5  (n. One who has returned, as if from the dead.)  ...   \n",
       "6                                 Reset the future  ...   \n",
       "7                                   Bring Him Home  ...   \n",
       "8     Before Gru, they had a history of bad bosses  ...   \n",
       "9         Meet the little voices inside your head.  ...   \n",
       "\n",
       "                                            overview runtime  \\\n",
       "0  Twenty-two years after the events of Jurassic ...     124   \n",
       "1  An apocalyptic story set in the furthest reach...     120   \n",
       "2  Beatrice Prior must confront her inner demons ...     119   \n",
       "3  Thirty years after defeating the Galactic Empi...     136   \n",
       "4  Deckard Shaw seeks revenge against Dominic Tor...     137   \n",
       "5  In the 1820s, a frontiersman, Hugh Glass, sets...     156   \n",
       "6  The year is 2029. John Connor, leader of the r...     125   \n",
       "7  During a manned mission to Mars, Astronaut Mar...     141   \n",
       "8  Minions Stuart, Kevin and Bob are recruited by...      91   \n",
       "9  Growing up can be a bumpy road, and it's no ex...      94   \n",
       "\n",
       "                                      genres  \\\n",
       "0  Action|Adventure|Science Fiction|Thriller   \n",
       "1  Action|Adventure|Science Fiction|Thriller   \n",
       "2         Adventure|Science Fiction|Thriller   \n",
       "3   Action|Adventure|Science Fiction|Fantasy   \n",
       "4                      Action|Crime|Thriller   \n",
       "5           Western|Drama|Adventure|Thriller   \n",
       "6  Science Fiction|Action|Thriller|Adventure   \n",
       "7            Drama|Adventure|Science Fiction   \n",
       "8          Family|Animation|Adventure|Comedy   \n",
       "9                    Comedy|Animation|Family   \n",
       "\n",
       "                                production_companies release_date vote_count  \\\n",
       "0  Universal Studios|Amblin Entertainment|Legenda...       6/9/15       5562   \n",
       "1  Village Roadshow Pictures|Kennedy Miller Produ...      5/13/15       6185   \n",
       "2  Summit Entertainment|Mandeville Films|Red Wago...      3/18/15       2480   \n",
       "3          Lucasfilm|Truenorth Productions|Bad Robot     12/15/15       5292   \n",
       "4  Universal Pictures|Original Film|Media Rights ...       4/1/15       2947   \n",
       "5  Regency Enterprises|Appian Way|CatchPlay|Anony...     12/25/15       3929   \n",
       "6            Paramount Pictures|Skydance Productions      6/23/15       2598   \n",
       "7  Twentieth Century Fox Film Corporation|Scott F...      9/30/15       4572   \n",
       "8      Universal Pictures|Illumination Entertainment      6/17/15       2893   \n",
       "9  Walt Disney Pictures|Pixar Animation Studios|W...       6/9/15       3935   \n",
       "\n",
       "   vote_average  release_year    budget_adj   revenue_adj  \n",
       "0           6.5          2015  1.379999e+08  1.392446e+09  \n",
       "1           7.1          2015  1.379999e+08  3.481613e+08  \n",
       "2           6.3          2015  1.012000e+08  2.716190e+08  \n",
       "3           7.5          2015  1.839999e+08  1.902723e+09  \n",
       "4           7.3          2015  1.747999e+08  1.385749e+09  \n",
       "5           7.2          2015  1.241999e+08  4.903142e+08  \n",
       "6           5.8          2015  1.425999e+08  4.053551e+08  \n",
       "7           7.6          2015  9.935996e+07  5.477497e+08  \n",
       "8           6.5          2015  6.807997e+07  1.064192e+09  \n",
       "9           8.0          2015  1.609999e+08  7.854116e+08  \n",
       "\n",
       "[10 rows x 21 columns]"
      ]
     },
     "execution_count": 68,
     "metadata": {},
     "output_type": "execute_result"
    }
   ],
   "source": [
    "# Load dataset\n",
    "df = pd.read_csv('tmdb-movies.csv')\n",
    "df.head(10)"
   ]
  },
  {
   "cell_type": "code",
   "execution_count": 3,
   "metadata": {},
   "outputs": [
    {
     "name": "stdout",
     "output_type": "stream",
     "text": [
      "<class 'pandas.core.frame.DataFrame'>\n",
      "RangeIndex: 10866 entries, 0 to 10865\n",
      "Data columns (total 21 columns):\n",
      "id                      10866 non-null int64\n",
      "imdb_id                 10856 non-null object\n",
      "popularity              10866 non-null float64\n",
      "budget                  10866 non-null int64\n",
      "revenue                 10866 non-null int64\n",
      "original_title          10866 non-null object\n",
      "cast                    10790 non-null object\n",
      "homepage                2936 non-null object\n",
      "director                10822 non-null object\n",
      "tagline                 8042 non-null object\n",
      "keywords                9373 non-null object\n",
      "overview                10862 non-null object\n",
      "runtime                 10866 non-null int64\n",
      "genres                  10843 non-null object\n",
      "production_companies    9836 non-null object\n",
      "release_date            10866 non-null object\n",
      "vote_count              10866 non-null int64\n",
      "vote_average            10866 non-null float64\n",
      "release_year            10866 non-null int64\n",
      "budget_adj              10866 non-null float64\n",
      "revenue_adj             10866 non-null float64\n",
      "dtypes: float64(4), int64(6), object(11)\n",
      "memory usage: 1.7+ MB\n"
     ]
    }
   ],
   "source": [
    "#Investigation of  null values in the dataset\n",
    "df.info()"
   ]
  },
  {
   "cell_type": "code",
   "execution_count": 4,
   "metadata": {},
   "outputs": [
    {
     "data": {
      "text/plain": [
       "cast                      76\n",
       "director                  44\n",
       "keywords                1493\n",
       "genres                    23\n",
       "production_companies    1030\n",
       "dtype: int64"
      ]
     },
     "execution_count": 4,
     "metadata": {},
     "output_type": "execute_result"
    }
   ],
   "source": [
    "#Counting missing value in interested data:\n",
    "df[['cast', 'director' , 'keywords', 'genres' , 'production_companies']].isnull().sum()"
   ]
  },
  {
   "cell_type": "code",
   "execution_count": 5,
   "metadata": {},
   "outputs": [
    {
     "data": {
      "text/html": [
       "<div>\n",
       "<style scoped>\n",
       "    .dataframe tbody tr th:only-of-type {\n",
       "        vertical-align: middle;\n",
       "    }\n",
       "\n",
       "    .dataframe tbody tr th {\n",
       "        vertical-align: top;\n",
       "    }\n",
       "\n",
       "    .dataframe thead th {\n",
       "        text-align: right;\n",
       "    }\n",
       "</style>\n",
       "<table border=\"1\" class=\"dataframe\">\n",
       "  <thead>\n",
       "    <tr style=\"text-align: right;\">\n",
       "      <th></th>\n",
       "      <th>budget_adj</th>\n",
       "      <th>revenue_adj</th>\n",
       "    </tr>\n",
       "  </thead>\n",
       "  <tbody>\n",
       "    <tr>\n",
       "      <th>count</th>\n",
       "      <td>1.086600e+04</td>\n",
       "      <td>1.086600e+04</td>\n",
       "    </tr>\n",
       "    <tr>\n",
       "      <th>mean</th>\n",
       "      <td>1.755104e+07</td>\n",
       "      <td>5.136436e+07</td>\n",
       "    </tr>\n",
       "    <tr>\n",
       "      <th>std</th>\n",
       "      <td>3.430616e+07</td>\n",
       "      <td>1.446325e+08</td>\n",
       "    </tr>\n",
       "    <tr>\n",
       "      <th>min</th>\n",
       "      <td>0.000000e+00</td>\n",
       "      <td>0.000000e+00</td>\n",
       "    </tr>\n",
       "    <tr>\n",
       "      <th>25%</th>\n",
       "      <td>0.000000e+00</td>\n",
       "      <td>0.000000e+00</td>\n",
       "    </tr>\n",
       "    <tr>\n",
       "      <th>50%</th>\n",
       "      <td>0.000000e+00</td>\n",
       "      <td>0.000000e+00</td>\n",
       "    </tr>\n",
       "    <tr>\n",
       "      <th>75%</th>\n",
       "      <td>2.085325e+07</td>\n",
       "      <td>3.369710e+07</td>\n",
       "    </tr>\n",
       "    <tr>\n",
       "      <th>max</th>\n",
       "      <td>4.250000e+08</td>\n",
       "      <td>2.827124e+09</td>\n",
       "    </tr>\n",
       "  </tbody>\n",
       "</table>\n",
       "</div>"
      ],
      "text/plain": [
       "         budget_adj   revenue_adj\n",
       "count  1.086600e+04  1.086600e+04\n",
       "mean   1.755104e+07  5.136436e+07\n",
       "std    3.430616e+07  1.446325e+08\n",
       "min    0.000000e+00  0.000000e+00\n",
       "25%    0.000000e+00  0.000000e+00\n",
       "50%    0.000000e+00  0.000000e+00\n",
       "75%    2.085325e+07  3.369710e+07\n",
       "max    4.250000e+08  2.827124e+09"
      ]
     },
     "execution_count": 5,
     "metadata": {},
     "output_type": "execute_result"
    }
   ],
   "source": [
    "#Invesitigation of zero value:\n",
    "df[['budget_adj' , 'revenue_adj']].describe()"
   ]
  },
  {
   "cell_type": "code",
   "execution_count": 6,
   "metadata": {},
   "outputs": [
    {
     "data": {
      "text/html": [
       "<div>\n",
       "<style scoped>\n",
       "    .dataframe tbody tr th:only-of-type {\n",
       "        vertical-align: middle;\n",
       "    }\n",
       "\n",
       "    .dataframe tbody tr th {\n",
       "        vertical-align: top;\n",
       "    }\n",
       "\n",
       "    .dataframe thead th {\n",
       "        text-align: right;\n",
       "    }\n",
       "</style>\n",
       "<table border=\"1\" class=\"dataframe\">\n",
       "  <thead>\n",
       "    <tr style=\"text-align: right;\">\n",
       "      <th></th>\n",
       "      <th>id</th>\n",
       "      <th>imdb_id</th>\n",
       "      <th>popularity</th>\n",
       "      <th>budget</th>\n",
       "      <th>revenue</th>\n",
       "      <th>original_title</th>\n",
       "      <th>cast</th>\n",
       "      <th>homepage</th>\n",
       "      <th>director</th>\n",
       "      <th>tagline</th>\n",
       "      <th>...</th>\n",
       "      <th>overview</th>\n",
       "      <th>runtime</th>\n",
       "      <th>genres</th>\n",
       "      <th>production_companies</th>\n",
       "      <th>release_date</th>\n",
       "      <th>vote_count</th>\n",
       "      <th>vote_average</th>\n",
       "      <th>release_year</th>\n",
       "      <th>budget_adj</th>\n",
       "      <th>revenue_adj</th>\n",
       "    </tr>\n",
       "  </thead>\n",
       "  <tbody>\n",
       "    <tr>\n",
       "      <th>48</th>\n",
       "      <td>265208</td>\n",
       "      <td>tt2231253</td>\n",
       "      <td>2.932340</td>\n",
       "      <td>30000000</td>\n",
       "      <td>0</td>\n",
       "      <td>Wild Card</td>\n",
       "      <td>Jason Statham|Michael Angarano|Milo Ventimigli...</td>\n",
       "      <td>NaN</td>\n",
       "      <td>Simon West</td>\n",
       "      <td>Never bet against a man with a killer hand.</td>\n",
       "      <td>...</td>\n",
       "      <td>When a Las Vegas bodyguard with lethal skills ...</td>\n",
       "      <td>92</td>\n",
       "      <td>Thriller|Crime|Drama</td>\n",
       "      <td>Current Entertainment|Lionsgate|Sierra / Affin...</td>\n",
       "      <td>1/14/15</td>\n",
       "      <td>481</td>\n",
       "      <td>5.3</td>\n",
       "      <td>2015</td>\n",
       "      <td>2.759999e+07</td>\n",
       "      <td>0.0</td>\n",
       "    </tr>\n",
       "    <tr>\n",
       "      <th>67</th>\n",
       "      <td>334074</td>\n",
       "      <td>tt3247714</td>\n",
       "      <td>2.331636</td>\n",
       "      <td>20000000</td>\n",
       "      <td>0</td>\n",
       "      <td>Survivor</td>\n",
       "      <td>Pierce Brosnan|Milla Jovovich|Dylan McDermott|...</td>\n",
       "      <td>http://survivormovie.com/</td>\n",
       "      <td>James McTeigue</td>\n",
       "      <td>His Next Target is Now Hunting Him</td>\n",
       "      <td>...</td>\n",
       "      <td>A Foreign Service Officer in London tries to p...</td>\n",
       "      <td>96</td>\n",
       "      <td>Crime|Thriller|Action</td>\n",
       "      <td>Nu Image Films|Winkler Films|Millennium Films|...</td>\n",
       "      <td>5/21/15</td>\n",
       "      <td>280</td>\n",
       "      <td>5.4</td>\n",
       "      <td>2015</td>\n",
       "      <td>1.839999e+07</td>\n",
       "      <td>0.0</td>\n",
       "    </tr>\n",
       "  </tbody>\n",
       "</table>\n",
       "<p>2 rows × 21 columns</p>\n",
       "</div>"
      ],
      "text/plain": [
       "        id    imdb_id  popularity    budget  revenue original_title  \\\n",
       "48  265208  tt2231253    2.932340  30000000        0      Wild Card   \n",
       "67  334074  tt3247714    2.331636  20000000        0       Survivor   \n",
       "\n",
       "                                                 cast  \\\n",
       "48  Jason Statham|Michael Angarano|Milo Ventimigli...   \n",
       "67  Pierce Brosnan|Milla Jovovich|Dylan McDermott|...   \n",
       "\n",
       "                     homepage        director  \\\n",
       "48                        NaN      Simon West   \n",
       "67  http://survivormovie.com/  James McTeigue   \n",
       "\n",
       "                                        tagline  ...  \\\n",
       "48  Never bet against a man with a killer hand.  ...   \n",
       "67           His Next Target is Now Hunting Him  ...   \n",
       "\n",
       "                                             overview runtime  \\\n",
       "48  When a Las Vegas bodyguard with lethal skills ...      92   \n",
       "67  A Foreign Service Officer in London tries to p...      96   \n",
       "\n",
       "                   genres                               production_companies  \\\n",
       "48   Thriller|Crime|Drama  Current Entertainment|Lionsgate|Sierra / Affin...   \n",
       "67  Crime|Thriller|Action  Nu Image Films|Winkler Films|Millennium Films|...   \n",
       "\n",
       "   release_date vote_count  vote_average  release_year    budget_adj  \\\n",
       "48      1/14/15        481           5.3          2015  2.759999e+07   \n",
       "67      5/21/15        280           5.4          2015  1.839999e+07   \n",
       "\n",
       "    revenue_adj  \n",
       "48          0.0  \n",
       "67          0.0  \n",
       "\n",
       "[2 rows x 21 columns]"
      ]
     },
     "execution_count": 6,
     "metadata": {},
     "output_type": "execute_result"
    }
   ],
   "source": [
    "#Investigation of zero value in revenue\n",
    "rev_zero = df.query('revenue_adj == 0')\n",
    "rev_zero.head(2)"
   ]
  },
  {
   "cell_type": "code",
   "execution_count": 7,
   "metadata": {
    "scrolled": true
   },
   "outputs": [
    {
     "data": {
      "text/html": [
       "<div>\n",
       "<style scoped>\n",
       "    .dataframe tbody tr th:only-of-type {\n",
       "        vertical-align: middle;\n",
       "    }\n",
       "\n",
       "    .dataframe tbody tr th {\n",
       "        vertical-align: top;\n",
       "    }\n",
       "\n",
       "    .dataframe thead th {\n",
       "        text-align: right;\n",
       "    }\n",
       "</style>\n",
       "<table border=\"1\" class=\"dataframe\">\n",
       "  <thead>\n",
       "    <tr style=\"text-align: right;\">\n",
       "      <th></th>\n",
       "      <th>id</th>\n",
       "      <th>imdb_id</th>\n",
       "      <th>popularity</th>\n",
       "      <th>budget</th>\n",
       "      <th>revenue</th>\n",
       "      <th>original_title</th>\n",
       "      <th>cast</th>\n",
       "      <th>homepage</th>\n",
       "      <th>director</th>\n",
       "      <th>tagline</th>\n",
       "      <th>...</th>\n",
       "      <th>overview</th>\n",
       "      <th>runtime</th>\n",
       "      <th>genres</th>\n",
       "      <th>production_companies</th>\n",
       "      <th>release_date</th>\n",
       "      <th>vote_count</th>\n",
       "      <th>vote_average</th>\n",
       "      <th>release_year</th>\n",
       "      <th>budget_adj</th>\n",
       "      <th>revenue_adj</th>\n",
       "    </tr>\n",
       "  </thead>\n",
       "  <tbody>\n",
       "    <tr>\n",
       "      <th>30</th>\n",
       "      <td>280996</td>\n",
       "      <td>tt3168230</td>\n",
       "      <td>3.927333</td>\n",
       "      <td>0</td>\n",
       "      <td>29355203</td>\n",
       "      <td>Mr. Holmes</td>\n",
       "      <td>Ian McKellen|Milo Parker|Laura Linney|Hattie M...</td>\n",
       "      <td>http://www.mrholmesfilm.com/</td>\n",
       "      <td>Bill Condon</td>\n",
       "      <td>The man behind the myth</td>\n",
       "      <td>...</td>\n",
       "      <td>The story is set in 1947, following a long-ret...</td>\n",
       "      <td>103</td>\n",
       "      <td>Mystery|Drama</td>\n",
       "      <td>BBC Films|See-Saw Films|FilmNation Entertainme...</td>\n",
       "      <td>6/19/15</td>\n",
       "      <td>425</td>\n",
       "      <td>6.4</td>\n",
       "      <td>2015</td>\n",
       "      <td>0.0</td>\n",
       "      <td>2.700677e+07</td>\n",
       "    </tr>\n",
       "    <tr>\n",
       "      <th>36</th>\n",
       "      <td>339527</td>\n",
       "      <td>tt1291570</td>\n",
       "      <td>3.358321</td>\n",
       "      <td>0</td>\n",
       "      <td>22354572</td>\n",
       "      <td>Solace</td>\n",
       "      <td>Abbie Cornish|Jeffrey Dean Morgan|Colin Farrel...</td>\n",
       "      <td>NaN</td>\n",
       "      <td>Afonso Poyart</td>\n",
       "      <td>A serial killer who can see your future, a psy...</td>\n",
       "      <td>...</td>\n",
       "      <td>A psychic doctor, John Clancy, works with an F...</td>\n",
       "      <td>101</td>\n",
       "      <td>Crime|Drama|Mystery</td>\n",
       "      <td>Eden Rock Media|FilmNation Entertainment|Flynn...</td>\n",
       "      <td>9/3/15</td>\n",
       "      <td>474</td>\n",
       "      <td>6.2</td>\n",
       "      <td>2015</td>\n",
       "      <td>0.0</td>\n",
       "      <td>2.056620e+07</td>\n",
       "    </tr>\n",
       "  </tbody>\n",
       "</table>\n",
       "<p>2 rows × 21 columns</p>\n",
       "</div>"
      ],
      "text/plain": [
       "        id    imdb_id  popularity  budget   revenue original_title  \\\n",
       "30  280996  tt3168230    3.927333       0  29355203     Mr. Holmes   \n",
       "36  339527  tt1291570    3.358321       0  22354572         Solace   \n",
       "\n",
       "                                                 cast  \\\n",
       "30  Ian McKellen|Milo Parker|Laura Linney|Hattie M...   \n",
       "36  Abbie Cornish|Jeffrey Dean Morgan|Colin Farrel...   \n",
       "\n",
       "                        homepage       director  \\\n",
       "30  http://www.mrholmesfilm.com/    Bill Condon   \n",
       "36                           NaN  Afonso Poyart   \n",
       "\n",
       "                                              tagline  ...  \\\n",
       "30                            The man behind the myth  ...   \n",
       "36  A serial killer who can see your future, a psy...  ...   \n",
       "\n",
       "                                             overview runtime  \\\n",
       "30  The story is set in 1947, following a long-ret...     103   \n",
       "36  A psychic doctor, John Clancy, works with an F...     101   \n",
       "\n",
       "                 genres                               production_companies  \\\n",
       "30        Mystery|Drama  BBC Films|See-Saw Films|FilmNation Entertainme...   \n",
       "36  Crime|Drama|Mystery  Eden Rock Media|FilmNation Entertainment|Flynn...   \n",
       "\n",
       "   release_date vote_count  vote_average  release_year  budget_adj  \\\n",
       "30      6/19/15        425           6.4          2015         0.0   \n",
       "36       9/3/15        474           6.2          2015         0.0   \n",
       "\n",
       "     revenue_adj  \n",
       "30  2.700677e+07  \n",
       "36  2.056620e+07  \n",
       "\n",
       "[2 rows x 21 columns]"
      ]
     },
     "execution_count": 7,
     "metadata": {},
     "output_type": "execute_result"
    }
   ],
   "source": [
    "#Investigation of zero value in budget\n",
    "budget_zero = df.query('budget_adj == 0')\n",
    "budget_zero.head(2)"
   ]
  },
  {
   "cell_type": "markdown",
   "metadata": {},
   "source": [
    "Apperently there is zero value in the budget and revenue. Based on the investigation into the dataset, it's supposed to be labeled as NaN instead of zero since the record is not available. Next step is to count how many rows contain zero value for both budget and revenue.\n",
    "\n",
    "For example [Wild card](https://en.wikipedia.org/wiki/Wild_Card_(2015_film)) has 6.7 million for the revenue"
   ]
  },
  {
   "cell_type": "code",
   "execution_count": 8,
   "metadata": {},
   "outputs": [
    {
     "data": {
      "text/plain": [
       "id                      6016\n",
       "imdb_id                 6006\n",
       "popularity              6016\n",
       "budget                  6016\n",
       "revenue                 6016\n",
       "original_title          6016\n",
       "cast                    5945\n",
       "homepage                1271\n",
       "director                5973\n",
       "tagline                 3656\n",
       "keywords                4758\n",
       "overview                6012\n",
       "runtime                 6016\n",
       "genres                  5993\n",
       "production_companies    5082\n",
       "release_date            6016\n",
       "vote_count              6016\n",
       "vote_average            6016\n",
       "release_year            6016\n",
       "budget_adj              6016\n",
       "revenue_adj             6016\n",
       "dtype: int64"
      ]
     },
     "execution_count": 8,
     "metadata": {},
     "output_type": "execute_result"
    }
   ],
   "source": [
    "#Counting how many rows contain zero value\n",
    "rev_zero.count()"
   ]
  },
  {
   "cell_type": "code",
   "execution_count": 9,
   "metadata": {},
   "outputs": [
    {
     "data": {
      "text/plain": [
       "id                      5696\n",
       "imdb_id                 5687\n",
       "popularity              5696\n",
       "budget                  5696\n",
       "revenue                 5696\n",
       "original_title          5696\n",
       "cast                    5631\n",
       "homepage                1229\n",
       "director                5656\n",
       "tagline                 3488\n",
       "keywords                4534\n",
       "overview                5692\n",
       "runtime                 5696\n",
       "genres                  5674\n",
       "production_companies    4802\n",
       "release_date            5696\n",
       "vote_count              5696\n",
       "vote_average            5696\n",
       "release_year            5696\n",
       "budget_adj              5696\n",
       "revenue_adj             5696\n",
       "dtype: int64"
      ]
     },
     "execution_count": 9,
     "metadata": {},
     "output_type": "execute_result"
    }
   ],
   "source": [
    "#Counting how many rows contain zero value\n",
    "budget_zero.count()"
   ]
  },
  {
   "cell_type": "markdown",
   "metadata": {},
   "source": [
    "There are 6016 revenue data and 5696 budget data that contain zero value, we shouldn't drop this value since the data is too big. However, the data can't be left as zero value because it will affect the calcuation of commercial success / profit. Thus, we should replace with NaN, explanation will be available in the Data Cleaning section."
   ]
  },
  {
   "cell_type": "markdown",
   "metadata": {},
   "source": [
    "#### Data Wrangling Summary"
   ]
  },
  {
   "cell_type": "markdown",
   "metadata": {},
   "source": [
    "Based on the Data Wrangling, there are several steps that need to be done in Data Cleaning Step:\n",
    "\n",
    "1. Drop the unnecessary columns which are not related with question, such as: imdb_id, budget, revenue, homepage, tagline, overview, keywords\n",
    "\n",
    "2. Drop the missing value \n",
    "\n",
    "3. Drop the duplicate value\n",
    "\n",
    "4. Replace zero value with NaN value"
   ]
  },
  {
   "cell_type": "markdown",
   "metadata": {},
   "source": [
    "### Data Cleaning"
   ]
  },
  {
   "cell_type": "markdown",
   "metadata": {},
   "source": [
    "Remove unnecassary columns that are not related with the research objective. Revenue_adj and budget_adj are choosen in this investigation since it has been adjusted in respect of inflation rate. Therefore, to compare with 1960's value, the value is much more representative. This is to address an investigation of commercial succes (profit)"
   ]
  },
  {
   "cell_type": "code",
   "execution_count": 10,
   "metadata": {},
   "outputs": [
    {
     "data": {
      "text/html": [
       "<div>\n",
       "<style scoped>\n",
       "    .dataframe tbody tr th:only-of-type {\n",
       "        vertical-align: middle;\n",
       "    }\n",
       "\n",
       "    .dataframe tbody tr th {\n",
       "        vertical-align: top;\n",
       "    }\n",
       "\n",
       "    .dataframe thead th {\n",
       "        text-align: right;\n",
       "    }\n",
       "</style>\n",
       "<table border=\"1\" class=\"dataframe\">\n",
       "  <thead>\n",
       "    <tr style=\"text-align: right;\">\n",
       "      <th></th>\n",
       "      <th>id</th>\n",
       "      <th>popularity</th>\n",
       "      <th>original_title</th>\n",
       "      <th>cast</th>\n",
       "      <th>director</th>\n",
       "      <th>runtime</th>\n",
       "      <th>genres</th>\n",
       "      <th>production_companies</th>\n",
       "      <th>release_date</th>\n",
       "      <th>vote_count</th>\n",
       "      <th>vote_average</th>\n",
       "      <th>release_year</th>\n",
       "      <th>budget_adj</th>\n",
       "      <th>revenue_adj</th>\n",
       "    </tr>\n",
       "  </thead>\n",
       "  <tbody>\n",
       "    <tr>\n",
       "      <th>0</th>\n",
       "      <td>135397</td>\n",
       "      <td>32.985763</td>\n",
       "      <td>Jurassic World</td>\n",
       "      <td>Chris Pratt|Bryce Dallas Howard|Irrfan Khan|Vi...</td>\n",
       "      <td>Colin Trevorrow</td>\n",
       "      <td>124</td>\n",
       "      <td>Action|Adventure|Science Fiction|Thriller</td>\n",
       "      <td>Universal Studios|Amblin Entertainment|Legenda...</td>\n",
       "      <td>6/9/15</td>\n",
       "      <td>5562</td>\n",
       "      <td>6.5</td>\n",
       "      <td>2015</td>\n",
       "      <td>1.379999e+08</td>\n",
       "      <td>1.392446e+09</td>\n",
       "    </tr>\n",
       "  </tbody>\n",
       "</table>\n",
       "</div>"
      ],
      "text/plain": [
       "       id  popularity  original_title  \\\n",
       "0  135397   32.985763  Jurassic World   \n",
       "\n",
       "                                                cast         director  \\\n",
       "0  Chris Pratt|Bryce Dallas Howard|Irrfan Khan|Vi...  Colin Trevorrow   \n",
       "\n",
       "   runtime                                     genres  \\\n",
       "0      124  Action|Adventure|Science Fiction|Thriller   \n",
       "\n",
       "                                production_companies release_date  vote_count  \\\n",
       "0  Universal Studios|Amblin Entertainment|Legenda...       6/9/15        5562   \n",
       "\n",
       "   vote_average  release_year    budget_adj   revenue_adj  \n",
       "0           6.5          2015  1.379999e+08  1.392446e+09  "
      ]
     },
     "execution_count": 10,
     "metadata": {},
     "output_type": "execute_result"
    }
   ],
   "source": [
    "#Drop Unnecessary Columns:\n",
    "df.drop(['imdb_id','budget', 'revenue' , 'homepage' , 'tagline', 'overview', 'keywords'], axis=1, inplace= True)\n",
    "df.head(1)"
   ]
  },
  {
   "cell_type": "code",
   "execution_count": 11,
   "metadata": {},
   "outputs": [],
   "source": [
    "#Drop missing value:\n",
    "clean1= ['cast', 'director', 'genres']\n",
    "df.dropna(subset = clean1, how='any',inplace= True)"
   ]
  },
  {
   "cell_type": "code",
   "execution_count": 12,
   "metadata": {},
   "outputs": [
    {
     "data": {
      "text/plain": [
       "id                        0\n",
       "popularity                0\n",
       "original_title            0\n",
       "cast                      0\n",
       "director                  0\n",
       "runtime                   0\n",
       "genres                    0\n",
       "production_companies    959\n",
       "release_date              0\n",
       "vote_count                0\n",
       "vote_average              0\n",
       "release_year              0\n",
       "budget_adj                0\n",
       "revenue_adj               0\n",
       "dtype: int64"
      ]
     },
     "execution_count": 12,
     "metadata": {},
     "output_type": "execute_result"
    }
   ],
   "source": [
    "#check data after dropped missing value:\n",
    "df.isnull().sum()"
   ]
  },
  {
   "cell_type": "markdown",
   "metadata": {},
   "source": [
    "Production Companies has quite big value to be dropped, by dropping the data it will affect the quality of the investigation. Therefore,we can ...."
   ]
  },
  {
   "cell_type": "code",
   "execution_count": 13,
   "metadata": {},
   "outputs": [],
   "source": [
    "df['production_companies'] = df['production_companies'].replace(\" \", np.NaN)"
   ]
  },
  {
   "cell_type": "code",
   "execution_count": 14,
   "metadata": {},
   "outputs": [
    {
     "data": {
      "text/plain": [
       "1"
      ]
     },
     "execution_count": 14,
     "metadata": {},
     "output_type": "execute_result"
    }
   ],
   "source": [
    "#Investigate duplicated data:\n",
    "duplicatedata = sum(df.duplicated())\n",
    "duplicatedata"
   ]
  },
  {
   "cell_type": "code",
   "execution_count": 15,
   "metadata": {},
   "outputs": [],
   "source": [
    "#Drop duplicated data:\n",
    "df.drop_duplicates(inplace= True)"
   ]
  },
  {
   "cell_type": "markdown",
   "metadata": {},
   "source": [
    "Since there are too many null value in budget_adj and revenue_adj, we can't drop the null value since it will affect the quality of the whole data. Thus, we should replace zero value with NaN since by letting the zero value will affect the calculation of profit.\n",
    "\n",
    "Replacing zero value with non-null value for both budget and revenue column"
   ]
  },
  {
   "cell_type": "code",
   "execution_count": 16,
   "metadata": {},
   "outputs": [
    {
     "name": "stdout",
     "output_type": "stream",
     "text": [
      "<class 'pandas.core.frame.DataFrame'>\n",
      "Int64Index: 10731 entries, 0 to 10865\n",
      "Data columns (total 14 columns):\n",
      "id                      10731 non-null int64\n",
      "popularity              10731 non-null float64\n",
      "original_title          10731 non-null object\n",
      "cast                    10731 non-null object\n",
      "director                10731 non-null object\n",
      "runtime                 10731 non-null int64\n",
      "genres                  10731 non-null object\n",
      "production_companies    9772 non-null object\n",
      "release_date            10731 non-null object\n",
      "vote_count              10731 non-null int64\n",
      "vote_average            10731 non-null float64\n",
      "release_year            10731 non-null int64\n",
      "budget_adj              5153 non-null float64\n",
      "revenue_adj             4843 non-null float64\n",
      "dtypes: float64(4), int64(4), object(6)\n",
      "memory usage: 1.2+ MB\n"
     ]
    }
   ],
   "source": [
    "#replace zero value with nan for both budget and revenue\n",
    "replace_zero = ['budget_adj','revenue_adj']\n",
    "df[replace_zero] = df[replace_zero].replace(0., np.nan)\n",
    "df.info()"
   ]
  },
  {
   "cell_type": "code",
   "execution_count": 17,
   "metadata": {},
   "outputs": [
    {
     "data": {
      "text/html": [
       "<div>\n",
       "<style scoped>\n",
       "    .dataframe tbody tr th:only-of-type {\n",
       "        vertical-align: middle;\n",
       "    }\n",
       "\n",
       "    .dataframe tbody tr th {\n",
       "        vertical-align: top;\n",
       "    }\n",
       "\n",
       "    .dataframe thead th {\n",
       "        text-align: right;\n",
       "    }\n",
       "</style>\n",
       "<table border=\"1\" class=\"dataframe\">\n",
       "  <thead>\n",
       "    <tr style=\"text-align: right;\">\n",
       "      <th></th>\n",
       "      <th>id</th>\n",
       "      <th>popularity</th>\n",
       "      <th>original_title</th>\n",
       "      <th>cast</th>\n",
       "      <th>director</th>\n",
       "      <th>runtime</th>\n",
       "      <th>genres</th>\n",
       "      <th>production_companies</th>\n",
       "      <th>release_date</th>\n",
       "      <th>vote_count</th>\n",
       "      <th>vote_average</th>\n",
       "      <th>release_year</th>\n",
       "      <th>budget_adj</th>\n",
       "      <th>revenue_adj</th>\n",
       "    </tr>\n",
       "  </thead>\n",
       "  <tbody>\n",
       "    <tr>\n",
       "      <th>228</th>\n",
       "      <td>300792</td>\n",
       "      <td>0.584363</td>\n",
       "      <td>Racing Extinction</td>\n",
       "      <td>Elon Musk|Jane Goodall|Louie Psihoyos|Leilani ...</td>\n",
       "      <td>Louie Psihoyos</td>\n",
       "      <td>90</td>\n",
       "      <td>Adventure|Documentary</td>\n",
       "      <td>NaN</td>\n",
       "      <td>1/24/15</td>\n",
       "      <td>36</td>\n",
       "      <td>7.8</td>\n",
       "      <td>2015</td>\n",
       "      <td>NaN</td>\n",
       "      <td>NaN</td>\n",
       "    </tr>\n",
       "  </tbody>\n",
       "</table>\n",
       "</div>"
      ],
      "text/plain": [
       "         id  popularity     original_title  \\\n",
       "228  300792    0.584363  Racing Extinction   \n",
       "\n",
       "                                                  cast        director  \\\n",
       "228  Elon Musk|Jane Goodall|Louie Psihoyos|Leilani ...  Louie Psihoyos   \n",
       "\n",
       "     runtime                 genres production_companies release_date  \\\n",
       "228       90  Adventure|Documentary                  NaN      1/24/15   \n",
       "\n",
       "     vote_count  vote_average  release_year  budget_adj  revenue_adj  \n",
       "228          36           7.8          2015         NaN          NaN  "
      ]
     },
     "execution_count": 17,
     "metadata": {},
     "output_type": "execute_result"
    }
   ],
   "source": [
    "#Checking if NaN has replaced the zero value and missing value\n",
    "check = df.query('id == 300792')\n",
    "check"
   ]
  },
  {
   "cell_type": "code",
   "execution_count": 18,
   "metadata": {},
   "outputs": [
    {
     "data": {
      "text/plain": [
       "id                      0\n",
       "popularity              0\n",
       "original_title          0\n",
       "cast                    0\n",
       "director                0\n",
       "runtime                 0\n",
       "genres                  0\n",
       "production_companies    0\n",
       "release_date            0\n",
       "vote_count              0\n",
       "vote_average            0\n",
       "release_year            0\n",
       "budget_adj              0\n",
       "revenue_adj             0\n",
       "dtype: int64"
      ]
     },
     "execution_count": 18,
     "metadata": {},
     "output_type": "execute_result"
    }
   ],
   "source": [
    "#Check if there is any zero value in budget column\n",
    "budget_zero = df.query('budget_adj == 0')\n",
    "budget_zero.count()"
   ]
  },
  {
   "cell_type": "code",
   "execution_count": 19,
   "metadata": {},
   "outputs": [
    {
     "data": {
      "text/plain": [
       "id                      0\n",
       "popularity              0\n",
       "original_title          0\n",
       "cast                    0\n",
       "director                0\n",
       "runtime                 0\n",
       "genres                  0\n",
       "production_companies    0\n",
       "release_date            0\n",
       "vote_count              0\n",
       "vote_average            0\n",
       "release_year            0\n",
       "budget_adj              0\n",
       "revenue_adj             0\n",
       "dtype: int64"
      ]
     },
     "execution_count": 19,
     "metadata": {},
     "output_type": "execute_result"
    }
   ],
   "source": [
    "#Check if there is any zero value in revenue column\n",
    "rev_zero = df.query('revenue_adj == 0')\n",
    "rev_zero.count()"
   ]
  },
  {
   "cell_type": "markdown",
   "metadata": {},
   "source": [
    "After investigating the value in both budget and revenue, apparently there are numerous decimals number, in order to simplify the data, let's round the decimals up"
   ]
  },
  {
   "cell_type": "code",
   "execution_count": 20,
   "metadata": {},
   "outputs": [],
   "source": [
    "#Round decimals number up in budget_adj and revenue_adj\n",
    "df['budget_adj']=df['budget_adj'].round(1)"
   ]
  },
  {
   "cell_type": "code",
   "execution_count": 21,
   "metadata": {},
   "outputs": [
    {
     "data": {
      "text/html": [
       "<div>\n",
       "<style scoped>\n",
       "    .dataframe tbody tr th:only-of-type {\n",
       "        vertical-align: middle;\n",
       "    }\n",
       "\n",
       "    .dataframe tbody tr th {\n",
       "        vertical-align: top;\n",
       "    }\n",
       "\n",
       "    .dataframe thead th {\n",
       "        text-align: right;\n",
       "    }\n",
       "</style>\n",
       "<table border=\"1\" class=\"dataframe\">\n",
       "  <thead>\n",
       "    <tr style=\"text-align: right;\">\n",
       "      <th></th>\n",
       "      <th>budget_adj</th>\n",
       "      <th>revenue_adj</th>\n",
       "    </tr>\n",
       "  </thead>\n",
       "  <tbody>\n",
       "    <tr>\n",
       "      <th>10861</th>\n",
       "      <td>NaN</td>\n",
       "      <td>NaN</td>\n",
       "    </tr>\n",
       "    <tr>\n",
       "      <th>10862</th>\n",
       "      <td>NaN</td>\n",
       "      <td>NaN</td>\n",
       "    </tr>\n",
       "    <tr>\n",
       "      <th>10863</th>\n",
       "      <td>NaN</td>\n",
       "      <td>NaN</td>\n",
       "    </tr>\n",
       "    <tr>\n",
       "      <th>10864</th>\n",
       "      <td>NaN</td>\n",
       "      <td>NaN</td>\n",
       "    </tr>\n",
       "    <tr>\n",
       "      <th>10865</th>\n",
       "      <td>127642.3</td>\n",
       "      <td>NaN</td>\n",
       "    </tr>\n",
       "  </tbody>\n",
       "</table>\n",
       "</div>"
      ],
      "text/plain": [
       "       budget_adj  revenue_adj\n",
       "10861         NaN          NaN\n",
       "10862         NaN          NaN\n",
       "10863         NaN          NaN\n",
       "10864         NaN          NaN\n",
       "10865    127642.3          NaN"
      ]
     },
     "execution_count": 21,
     "metadata": {},
     "output_type": "execute_result"
    }
   ],
   "source": [
    "#check if there is no zero value in both revenue and budget\n",
    "df[['budget_adj' , 'revenue_adj']].tail()"
   ]
  },
  {
   "cell_type": "markdown",
   "metadata": {},
   "source": [
    "<a id='eda'></a>\n",
    "## Exploratory Data Analysis\n",
    "\n",
    "### Research Question 1 : How is the popularity of movies over the years?"
   ]
  },
  {
   "cell_type": "code",
   "execution_count": 22,
   "metadata": {},
   "outputs": [
    {
     "data": {
      "text/plain": [
       "count    10731.000000\n",
       "mean         0.652615\n",
       "std          1.004804\n",
       "min          0.000188\n",
       "25%          0.210765\n",
       "50%          0.387081\n",
       "75%          0.720889\n",
       "max         32.985763\n",
       "Name: popularity, dtype: float64"
      ]
     },
     "execution_count": 22,
     "metadata": {},
     "output_type": "execute_result"
    }
   ],
   "source": [
    "#Investigate the value of popularity in dataset\n",
    "df['popularity'].describe()"
   ]
  },
  {
   "cell_type": "markdown",
   "metadata": {},
   "source": [
    "To simplify the popularity of each year, this project takes mean value of each year and by using groupby, we can get the mean value for each year"
   ]
  },
  {
   "cell_type": "code",
   "execution_count": 23,
   "metadata": {},
   "outputs": [
    {
     "data": {
      "text/plain": [
       "release_year\n",
       "1960    0.458932\n",
       "1961    0.422827\n",
       "1962    0.454783\n",
       "1963    0.502706\n",
       "1964    0.412428\n",
       "Name: popularity, dtype: float64"
      ]
     },
     "execution_count": 23,
     "metadata": {},
     "output_type": "execute_result"
    }
   ],
   "source": [
    "popularity_mean = df.groupby ('release_year').popularity.mean()\n",
    "popularity_mean.head()"
   ]
  },
  {
   "cell_type": "markdown",
   "metadata": {},
   "source": [
    "Visualizing Data to see the trend of popularity of movies throughout the years"
   ]
  },
  {
   "cell_type": "code",
   "execution_count": 24,
   "metadata": {},
   "outputs": [
    {
     "data": {
      "image/png": "[encoded data removed]",
      "text/plain": [
       "<Figure size 864x576 with 1 Axes>"
      ]
     },
     "metadata": {},
     "output_type": "display_data"
    }
   ],
   "source": [
    "#Set Grid Color\n",
    "sns.set_style('darkgrid')\n",
    "\n",
    "#Set size\n",
    "plt.figure(figsize=(12,8))\n",
    "plt.plot(popularity_mean,   color='blue', linestyle='dashed', marker='o', markerfacecolor='red', markersize=4)\n",
    "\n",
    "#Set Label\n",
    "plt.title('Popularity of Movies Throughout the Years')\n",
    "plt.ylabel ('Popularity')\n",
    "plt.xlabel ('Year');"
   ]
  },
  {
   "cell_type": "markdown",
   "metadata": {},
   "source": [
    "Based on the finding that is presented in the chart, we can conclude that popularity of movies is gradually increase along the years and from 2010 onwards popularity of movies has drastically increased. According to the [TMDb](https://developers.themoviedb.org/3/getting-started/popularity), popularity of a movie will be counted from various factors such as:  \n",
    "1. Number of views for the day\n",
    "2. Number of users who marked it as a \"favourite\" for the day\n",
    "3. Number of users who added it to their \"watchlist\" for the day\n",
    "4. Release date\n",
    "5. Number of total votes\n",
    "6. Previous days score\n",
    "\n",
    "Based on the method that TMDb conduct, this project believe that Internet plays significant role that contribute to the increase of movie's popularity. The easiness of accessing Internet in the past decade makes people easily to view, vote, or mark the movies as favorite or watchlist. This assumption is supported by the article which published by [Julia Muprhy and Max Roser](https://ourworldindata.org/internet) where the growth of internet has increased significantly over the decade.\n",
    "![alt text]( Internet-users-by-world-region.png \"Logo Title Text 3\")"
   ]
  },
  {
   "cell_type": "markdown",
   "metadata": {},
   "source": [
    "### Research Question 2: What are recommendation movie's properties to achieve commercial success?"
   ]
  },
  {
   "cell_type": "markdown",
   "metadata": {},
   "source": [
    "In  this research question, we will investigate movie's properties such as genres, cast, director, production companies, and production cost (budget) that are likely achieve a commerical success movie. Determination of commercial success movie is based on the profit with 75th percentile and above which is catagorized as high profit."
   ]
  },
  {
   "cell_type": "code",
   "execution_count": 25,
   "metadata": {},
   "outputs": [
    {
     "data": {
      "text/html": [
       "<div>\n",
       "<style scoped>\n",
       "    .dataframe tbody tr th:only-of-type {\n",
       "        vertical-align: middle;\n",
       "    }\n",
       "\n",
       "    .dataframe tbody tr th {\n",
       "        vertical-align: top;\n",
       "    }\n",
       "\n",
       "    .dataframe thead th {\n",
       "        text-align: right;\n",
       "    }\n",
       "</style>\n",
       "<table border=\"1\" class=\"dataframe\">\n",
       "  <thead>\n",
       "    <tr style=\"text-align: right;\">\n",
       "      <th></th>\n",
       "      <th>id</th>\n",
       "      <th>popularity</th>\n",
       "      <th>original_title</th>\n",
       "      <th>cast</th>\n",
       "      <th>director</th>\n",
       "      <th>runtime</th>\n",
       "      <th>genres</th>\n",
       "      <th>production_companies</th>\n",
       "      <th>release_date</th>\n",
       "      <th>vote_count</th>\n",
       "      <th>vote_average</th>\n",
       "      <th>release_year</th>\n",
       "      <th>budget_adj</th>\n",
       "      <th>revenue_adj</th>\n",
       "      <th>profit</th>\n",
       "    </tr>\n",
       "  </thead>\n",
       "  <tbody>\n",
       "    <tr>\n",
       "      <th>0</th>\n",
       "      <td>135397</td>\n",
       "      <td>32.985763</td>\n",
       "      <td>Jurassic World</td>\n",
       "      <td>Chris Pratt|Bryce Dallas Howard|Irrfan Khan|Vi...</td>\n",
       "      <td>Colin Trevorrow</td>\n",
       "      <td>124</td>\n",
       "      <td>Action|Adventure|Science Fiction|Thriller</td>\n",
       "      <td>Universal Studios|Amblin Entertainment|Legenda...</td>\n",
       "      <td>6/9/15</td>\n",
       "      <td>5562</td>\n",
       "      <td>6.5</td>\n",
       "      <td>2015</td>\n",
       "      <td>137999939.3</td>\n",
       "      <td>1.392446e+09</td>\n",
       "      <td>1.254446e+09</td>\n",
       "    </tr>\n",
       "    <tr>\n",
       "      <th>1</th>\n",
       "      <td>76341</td>\n",
       "      <td>28.419936</td>\n",
       "      <td>Mad Max: Fury Road</td>\n",
       "      <td>Tom Hardy|Charlize Theron|Hugh Keays-Byrne|Nic...</td>\n",
       "      <td>George Miller</td>\n",
       "      <td>120</td>\n",
       "      <td>Action|Adventure|Science Fiction|Thriller</td>\n",
       "      <td>Village Roadshow Pictures|Kennedy Miller Produ...</td>\n",
       "      <td>5/13/15</td>\n",
       "      <td>6185</td>\n",
       "      <td>7.1</td>\n",
       "      <td>2015</td>\n",
       "      <td>137999939.3</td>\n",
       "      <td>3.481613e+08</td>\n",
       "      <td>2.101614e+08</td>\n",
       "    </tr>\n",
       "  </tbody>\n",
       "</table>\n",
       "</div>"
      ],
      "text/plain": [
       "       id  popularity      original_title  \\\n",
       "0  135397   32.985763      Jurassic World   \n",
       "1   76341   28.419936  Mad Max: Fury Road   \n",
       "\n",
       "                                                cast         director  \\\n",
       "0  Chris Pratt|Bryce Dallas Howard|Irrfan Khan|Vi...  Colin Trevorrow   \n",
       "1  Tom Hardy|Charlize Theron|Hugh Keays-Byrne|Nic...    George Miller   \n",
       "\n",
       "   runtime                                     genres  \\\n",
       "0      124  Action|Adventure|Science Fiction|Thriller   \n",
       "1      120  Action|Adventure|Science Fiction|Thriller   \n",
       "\n",
       "                                production_companies release_date  vote_count  \\\n",
       "0  Universal Studios|Amblin Entertainment|Legenda...       6/9/15        5562   \n",
       "1  Village Roadshow Pictures|Kennedy Miller Produ...      5/13/15        6185   \n",
       "\n",
       "   vote_average  release_year   budget_adj   revenue_adj        profit  \n",
       "0           6.5          2015  137999939.3  1.392446e+09  1.254446e+09  \n",
       "1           7.1          2015  137999939.3  3.481613e+08  2.101614e+08  "
      ]
     },
     "execution_count": 25,
     "metadata": {},
     "output_type": "execute_result"
    }
   ],
   "source": [
    "#Commercial Success is determined by the Profit\n",
    "df['profit'] = df['revenue_adj'] - df['budget_adj']\n",
    "df.head(2)"
   ]
  },
  {
   "cell_type": "code",
   "execution_count": 26,
   "metadata": {},
   "outputs": [
    {
     "data": {
      "text/plain": [
       "count    3.849000e+03\n",
       "mean     9.293772e+07\n",
       "std      1.941716e+08\n",
       "min     -4.139124e+08\n",
       "25%     -1.503317e+06\n",
       "50%      2.745198e+07\n",
       "75%      1.075480e+08\n",
       "max      2.750137e+09\n",
       "Name: profit, dtype: float64"
      ]
     },
     "execution_count": 26,
     "metadata": {},
     "output_type": "execute_result"
    }
   ],
   "source": [
    "df['profit'].describe()"
   ]
  },
  {
   "cell_type": "code",
   "execution_count": 27,
   "metadata": {},
   "outputs": [
    {
     "data": {
      "text/html": [
       "<div>\n",
       "<style scoped>\n",
       "    .dataframe tbody tr th:only-of-type {\n",
       "        vertical-align: middle;\n",
       "    }\n",
       "\n",
       "    .dataframe tbody tr th {\n",
       "        vertical-align: top;\n",
       "    }\n",
       "\n",
       "    .dataframe thead th {\n",
       "        text-align: right;\n",
       "    }\n",
       "</style>\n",
       "<table border=\"1\" class=\"dataframe\">\n",
       "  <thead>\n",
       "    <tr style=\"text-align: right;\">\n",
       "      <th></th>\n",
       "      <th>id</th>\n",
       "      <th>popularity</th>\n",
       "      <th>original_title</th>\n",
       "      <th>cast</th>\n",
       "      <th>director</th>\n",
       "      <th>runtime</th>\n",
       "      <th>genres</th>\n",
       "      <th>production_companies</th>\n",
       "      <th>release_date</th>\n",
       "      <th>vote_count</th>\n",
       "      <th>vote_average</th>\n",
       "      <th>release_year</th>\n",
       "      <th>budget_adj</th>\n",
       "      <th>revenue_adj</th>\n",
       "      <th>profit</th>\n",
       "      <th>budget_level</th>\n",
       "    </tr>\n",
       "  </thead>\n",
       "  <tbody>\n",
       "    <tr>\n",
       "      <th>0</th>\n",
       "      <td>135397</td>\n",
       "      <td>32.985763</td>\n",
       "      <td>Jurassic World</td>\n",
       "      <td>Chris Pratt|Bryce Dallas Howard|Irrfan Khan|Vi...</td>\n",
       "      <td>Colin Trevorrow</td>\n",
       "      <td>124</td>\n",
       "      <td>Action|Adventure|Science Fiction|Thriller</td>\n",
       "      <td>Universal Studios|Amblin Entertainment|Legenda...</td>\n",
       "      <td>6/9/15</td>\n",
       "      <td>5562</td>\n",
       "      <td>6.5</td>\n",
       "      <td>2015</td>\n",
       "      <td>137999939.3</td>\n",
       "      <td>1.392446e+09</td>\n",
       "      <td>1.254446e+09</td>\n",
       "      <td>High</td>\n",
       "    </tr>\n",
       "    <tr>\n",
       "      <th>1</th>\n",
       "      <td>76341</td>\n",
       "      <td>28.419936</td>\n",
       "      <td>Mad Max: Fury Road</td>\n",
       "      <td>Tom Hardy|Charlize Theron|Hugh Keays-Byrne|Nic...</td>\n",
       "      <td>George Miller</td>\n",
       "      <td>120</td>\n",
       "      <td>Action|Adventure|Science Fiction|Thriller</td>\n",
       "      <td>Village Roadshow Pictures|Kennedy Miller Produ...</td>\n",
       "      <td>5/13/15</td>\n",
       "      <td>6185</td>\n",
       "      <td>7.1</td>\n",
       "      <td>2015</td>\n",
       "      <td>137999939.3</td>\n",
       "      <td>3.481613e+08</td>\n",
       "      <td>2.101614e+08</td>\n",
       "      <td>High</td>\n",
       "    </tr>\n",
       "  </tbody>\n",
       "</table>\n",
       "</div>"
      ],
      "text/plain": [
       "       id  popularity      original_title  \\\n",
       "0  135397   32.985763      Jurassic World   \n",
       "1   76341   28.419936  Mad Max: Fury Road   \n",
       "\n",
       "                                                cast         director  \\\n",
       "0  Chris Pratt|Bryce Dallas Howard|Irrfan Khan|Vi...  Colin Trevorrow   \n",
       "1  Tom Hardy|Charlize Theron|Hugh Keays-Byrne|Nic...    George Miller   \n",
       "\n",
       "   runtime                                     genres  \\\n",
       "0      124  Action|Adventure|Science Fiction|Thriller   \n",
       "1      120  Action|Adventure|Science Fiction|Thriller   \n",
       "\n",
       "                                production_companies release_date  vote_count  \\\n",
       "0  Universal Studios|Amblin Entertainment|Legenda...       6/9/15        5562   \n",
       "1  Village Roadshow Pictures|Kennedy Miller Produ...      5/13/15        6185   \n",
       "\n",
       "   vote_average  release_year   budget_adj   revenue_adj        profit  \\\n",
       "0           6.5          2015  137999939.3  1.392446e+09  1.254446e+09   \n",
       "1           7.1          2015  137999939.3  3.481613e+08  2.101614e+08   \n",
       "\n",
       "  budget_level  \n",
       "0         High  \n",
       "1         High  "
      ]
     },
     "execution_count": 27,
     "metadata": {},
     "output_type": "execute_result"
    }
   ],
   "source": [
    "#Set value range for budget\n",
    "min_value=df['budget_adj'].min()\n",
    "first_value=df['budget_adj'].describe()[4]\n",
    "second_value=df['budget_adj'].describe()[5]\n",
    "third_value=df['budget_adj'].describe()[6]\n",
    "max_value=df['budget_adj'].max()\n",
    "\n",
    "#Set bin edges for budget\n",
    "bin_edges = [min_value, first_value, second_value, third_value, max_value]\n",
    "\n",
    "#Set labels for budget\n",
    "bin_names = ['Low','Medium','Moderately High','High']\n",
    "\n",
    "#Create column for budget level\n",
    "df['budget_level'] = pd.cut(df['budget_adj'], bin_edges, labels=bin_names)\n",
    "\n",
    "df.head(2)"
   ]
  },
  {
   "cell_type": "code",
   "execution_count": 28,
   "metadata": {},
   "outputs": [
    {
     "data": {
      "text/html": [
       "<div>\n",
       "<style scoped>\n",
       "    .dataframe tbody tr th:only-of-type {\n",
       "        vertical-align: middle;\n",
       "    }\n",
       "\n",
       "    .dataframe tbody tr th {\n",
       "        vertical-align: top;\n",
       "    }\n",
       "\n",
       "    .dataframe thead th {\n",
       "        text-align: right;\n",
       "    }\n",
       "</style>\n",
       "<table border=\"1\" class=\"dataframe\">\n",
       "  <thead>\n",
       "    <tr style=\"text-align: right;\">\n",
       "      <th></th>\n",
       "      <th>id</th>\n",
       "      <th>popularity</th>\n",
       "      <th>original_title</th>\n",
       "      <th>cast</th>\n",
       "      <th>director</th>\n",
       "      <th>runtime</th>\n",
       "      <th>genres</th>\n",
       "      <th>production_companies</th>\n",
       "      <th>release_date</th>\n",
       "      <th>vote_count</th>\n",
       "      <th>vote_average</th>\n",
       "      <th>release_year</th>\n",
       "      <th>budget_adj</th>\n",
       "      <th>revenue_adj</th>\n",
       "      <th>profit</th>\n",
       "      <th>budget_level</th>\n",
       "      <th>profit_level</th>\n",
       "    </tr>\n",
       "  </thead>\n",
       "  <tbody>\n",
       "    <tr>\n",
       "      <th>0</th>\n",
       "      <td>135397</td>\n",
       "      <td>32.985763</td>\n",
       "      <td>Jurassic World</td>\n",
       "      <td>Chris Pratt|Bryce Dallas Howard|Irrfan Khan|Vi...</td>\n",
       "      <td>Colin Trevorrow</td>\n",
       "      <td>124</td>\n",
       "      <td>Action|Adventure|Science Fiction|Thriller</td>\n",
       "      <td>Universal Studios|Amblin Entertainment|Legenda...</td>\n",
       "      <td>6/9/15</td>\n",
       "      <td>5562</td>\n",
       "      <td>6.5</td>\n",
       "      <td>2015</td>\n",
       "      <td>137999939.3</td>\n",
       "      <td>1.392446e+09</td>\n",
       "      <td>1.254446e+09</td>\n",
       "      <td>High</td>\n",
       "      <td>High</td>\n",
       "    </tr>\n",
       "    <tr>\n",
       "      <th>1</th>\n",
       "      <td>76341</td>\n",
       "      <td>28.419936</td>\n",
       "      <td>Mad Max: Fury Road</td>\n",
       "      <td>Tom Hardy|Charlize Theron|Hugh Keays-Byrne|Nic...</td>\n",
       "      <td>George Miller</td>\n",
       "      <td>120</td>\n",
       "      <td>Action|Adventure|Science Fiction|Thriller</td>\n",
       "      <td>Village Roadshow Pictures|Kennedy Miller Produ...</td>\n",
       "      <td>5/13/15</td>\n",
       "      <td>6185</td>\n",
       "      <td>7.1</td>\n",
       "      <td>2015</td>\n",
       "      <td>137999939.3</td>\n",
       "      <td>3.481613e+08</td>\n",
       "      <td>2.101614e+08</td>\n",
       "      <td>High</td>\n",
       "      <td>High</td>\n",
       "    </tr>\n",
       "  </tbody>\n",
       "</table>\n",
       "</div>"
      ],
      "text/plain": [
       "       id  popularity      original_title  \\\n",
       "0  135397   32.985763      Jurassic World   \n",
       "1   76341   28.419936  Mad Max: Fury Road   \n",
       "\n",
       "                                                cast         director  \\\n",
       "0  Chris Pratt|Bryce Dallas Howard|Irrfan Khan|Vi...  Colin Trevorrow   \n",
       "1  Tom Hardy|Charlize Theron|Hugh Keays-Byrne|Nic...    George Miller   \n",
       "\n",
       "   runtime                                     genres  \\\n",
       "0      124  Action|Adventure|Science Fiction|Thriller   \n",
       "1      120  Action|Adventure|Science Fiction|Thriller   \n",
       "\n",
       "                                production_companies release_date  vote_count  \\\n",
       "0  Universal Studios|Amblin Entertainment|Legenda...       6/9/15        5562   \n",
       "1  Village Roadshow Pictures|Kennedy Miller Produ...      5/13/15        6185   \n",
       "\n",
       "   vote_average  release_year   budget_adj   revenue_adj        profit  \\\n",
       "0           6.5          2015  137999939.3  1.392446e+09  1.254446e+09   \n",
       "1           7.1          2015  137999939.3  3.481613e+08  2.101614e+08   \n",
       "\n",
       "  budget_level profit_level  \n",
       "0         High         High  \n",
       "1         High         High  "
      ]
     },
     "execution_count": 28,
     "metadata": {},
     "output_type": "execute_result"
    }
   ],
   "source": [
    "#Set value range for profit\n",
    "min_value=df['profit'].min()\n",
    "first_value=df['profit'].describe()[4]\n",
    "second_value=df['profit'].describe()[5]\n",
    "third_value=df['profit'].describe()[6]\n",
    "max_value=df['profit'].max()\n",
    "\n",
    "#Set bin edges for profit\n",
    "bin_edges = [min_value, first_value, second_value, third_value, max_value]\n",
    "\n",
    "#Set labels for profit\n",
    "bin_names = ['Low','Medium','Moderately High','High']\n",
    "\n",
    "#Create column for profit level\n",
    "df['profit_level'] = pd.cut(df['profit'], bin_edges, labels=bin_names)\n",
    "\n",
    "df.head(2)"
   ]
  },
  {
   "cell_type": "code",
   "execution_count": 29,
   "metadata": {},
   "outputs": [
    {
     "data": {
      "text/html": [
       "<div>\n",
       "<style scoped>\n",
       "    .dataframe tbody tr th:only-of-type {\n",
       "        vertical-align: middle;\n",
       "    }\n",
       "\n",
       "    .dataframe tbody tr th {\n",
       "        vertical-align: top;\n",
       "    }\n",
       "\n",
       "    .dataframe thead th {\n",
       "        text-align: right;\n",
       "    }\n",
       "</style>\n",
       "<table border=\"1\" class=\"dataframe\">\n",
       "  <thead>\n",
       "    <tr style=\"text-align: right;\">\n",
       "      <th></th>\n",
       "      <th>id</th>\n",
       "      <th>popularity</th>\n",
       "      <th>original_title</th>\n",
       "      <th>cast</th>\n",
       "      <th>director</th>\n",
       "      <th>runtime</th>\n",
       "      <th>genres</th>\n",
       "      <th>production_companies</th>\n",
       "      <th>release_date</th>\n",
       "      <th>vote_count</th>\n",
       "      <th>vote_average</th>\n",
       "      <th>release_year</th>\n",
       "      <th>budget_adj</th>\n",
       "      <th>revenue_adj</th>\n",
       "      <th>profit</th>\n",
       "      <th>budget_level</th>\n",
       "      <th>profit_level</th>\n",
       "    </tr>\n",
       "  </thead>\n",
       "  <tbody>\n",
       "    <tr>\n",
       "      <th>1</th>\n",
       "      <td>11</td>\n",
       "      <td>12.037933</td>\n",
       "      <td>Star Wars</td>\n",
       "      <td>Mark Hamill|Harrison Ford|Carrie Fisher|Peter ...</td>\n",
       "      <td>George Lucas</td>\n",
       "      <td>121</td>\n",
       "      <td>Adventure|Action|Science Fiction</td>\n",
       "      <td>Lucasfilm|Twentieth Century Fox Film Corporation</td>\n",
       "      <td>3/20/77</td>\n",
       "      <td>4428</td>\n",
       "      <td>7.9</td>\n",
       "      <td>1977</td>\n",
       "      <td>39575591.4</td>\n",
       "      <td>2.789712e+09</td>\n",
       "      <td>2.750137e+09</td>\n",
       "      <td>Moderately High</td>\n",
       "      <td>High</td>\n",
       "    </tr>\n",
       "    <tr>\n",
       "      <th>2</th>\n",
       "      <td>19995</td>\n",
       "      <td>9.432768</td>\n",
       "      <td>Avatar</td>\n",
       "      <td>Sam Worthington|Zoe Saldana|Sigourney Weaver|S...</td>\n",
       "      <td>James Cameron</td>\n",
       "      <td>162</td>\n",
       "      <td>Action|Adventure|Fantasy|Science Fiction</td>\n",
       "      <td>Ingenious Film Partners|Twentieth Century Fox ...</td>\n",
       "      <td>12/10/09</td>\n",
       "      <td>8458</td>\n",
       "      <td>7.1</td>\n",
       "      <td>2009</td>\n",
       "      <td>240886902.9</td>\n",
       "      <td>2.827124e+09</td>\n",
       "      <td>2.586237e+09</td>\n",
       "      <td>High</td>\n",
       "      <td>High</td>\n",
       "    </tr>\n",
       "  </tbody>\n",
       "</table>\n",
       "</div>"
      ],
      "text/plain": [
       "      id  popularity original_title  \\\n",
       "1     11   12.037933      Star Wars   \n",
       "2  19995    9.432768         Avatar   \n",
       "\n",
       "                                                cast       director  runtime  \\\n",
       "1  Mark Hamill|Harrison Ford|Carrie Fisher|Peter ...   George Lucas      121   \n",
       "2  Sam Worthington|Zoe Saldana|Sigourney Weaver|S...  James Cameron      162   \n",
       "\n",
       "                                     genres  \\\n",
       "1          Adventure|Action|Science Fiction   \n",
       "2  Action|Adventure|Fantasy|Science Fiction   \n",
       "\n",
       "                                production_companies release_date  vote_count  \\\n",
       "1   Lucasfilm|Twentieth Century Fox Film Corporation      3/20/77        4428   \n",
       "2  Ingenious Film Partners|Twentieth Century Fox ...     12/10/09        8458   \n",
       "\n",
       "   vote_average  release_year   budget_adj   revenue_adj        profit  \\\n",
       "1           7.9          1977   39575591.4  2.789712e+09  2.750137e+09   \n",
       "2           7.1          2009  240886902.9  2.827124e+09  2.586237e+09   \n",
       "\n",
       "      budget_level profit_level  \n",
       "1  Moderately High         High  \n",
       "2             High         High  "
      ]
     },
     "execution_count": 29,
     "metadata": {},
     "output_type": "execute_result"
    }
   ],
   "source": [
    "#sorting data for top 15 commercial success movies throughout the years\n",
    "com_success = df[df['profit_level']==\"High\"].sort_values(['profit_level','profit'], ascending=[True, False])\n",
    "#Reindex data from 1\n",
    "com_success.index = range(len(com_success))\n",
    "com_success.index = com_success.index + 1\n",
    "\n",
    "com_success.head(2)\n"
   ]
  },
  {
   "cell_type": "code",
   "execution_count": 30,
   "metadata": {},
   "outputs": [],
   "source": [
    "#set a function that will take the value based on the frequency of appereance in the dataset \n",
    "def c(column):\n",
    "    #first step is to seperate '|' from the string\n",
    "    c = com_success[column].str.cat(sep = '|')\n",
    "    \n",
    "    #set pandas to store the split value\n",
    "    c = pd.Series(c.split('|'))\n",
    "    \n",
    "    #display it in descending order\n",
    "    count = c.value_counts(ascending = False)\n",
    "    \n",
    "    return count"
   ]
  },
  {
   "cell_type": "code",
   "execution_count": 31,
   "metadata": {},
   "outputs": [
    {
     "data": {
      "text/plain": [
       "<matplotlib.axes._subplots.AxesSubplot at 0x17304df27f0>"
      ]
     },
     "execution_count": 31,
     "metadata": {},
     "output_type": "execute_result"
    },
    {
     "data": {
      "image/png": "[encoded data removed]",
      "text/plain": [
       "<Figure size 432x288 with 1 Axes>"
      ]
     },
     "metadata": {},
     "output_type": "display_data"
    }
   ],
   "source": [
    "#investigation on which genre that has become the most commercial successful movie\n",
    "genre_count = c ('genres')\n",
    "genre_count.sort_values(ascending=True).plot(kind='barh')"
   ]
  },
  {
   "cell_type": "code",
   "execution_count": 32,
   "metadata": {},
   "outputs": [
    {
     "data": {
      "text/plain": [
       "<matplotlib.axes._subplots.AxesSubplot at 0x17304bf8240>"
      ]
     },
     "execution_count": 32,
     "metadata": {},
     "output_type": "execute_result"
    },
    {
     "data": {
      "image/png": "[encoded data removed]",
      "text/plain": [
       "<Figure size 432x288 with 1 Axes>"
      ]
     },
     "metadata": {},
     "output_type": "display_data"
    }
   ],
   "source": [
    "#investigation on which cast that has become the most commercial successful movie\n",
    "cast_count = c ('cast')\n",
    "cast_count.head(10).sort_values(ascending=True).plot(kind='barh')"
   ]
  },
  {
   "cell_type": "code",
   "execution_count": 33,
   "metadata": {},
   "outputs": [
    {
     "data": {
      "text/plain": [
       "<matplotlib.axes._subplots.AxesSubplot at 0x17304c8ecc0>"
      ]
     },
     "execution_count": 33,
     "metadata": {},
     "output_type": "execute_result"
    },
    {
     "data": {
      "image/png": "[encoded data removed]",
      "text/plain": [
       "<Figure size 432x288 with 1 Axes>"
      ]
     },
     "metadata": {},
     "output_type": "display_data"
    }
   ],
   "source": [
    "#investigation on which production company that has become the most commercial successful movie\n",
    "prod_comp = c ('production_companies')\n",
    "prod_comp.head(10).sort_values(ascending=True).plot(kind='barh')\n"
   ]
  },
  {
   "cell_type": "code",
   "execution_count": 34,
   "metadata": {},
   "outputs": [
    {
     "data": {
      "text/plain": [
       "<matplotlib.axes._subplots.AxesSubplot at 0x17304d42240>"
      ]
     },
     "execution_count": 34,
     "metadata": {},
     "output_type": "execute_result"
    },
    {
     "data": {
      "image/png": "[encoded data removed]",
      "text/plain": [
       "<Figure size 432x288 with 1 Axes>"
      ]
     },
     "metadata": {},
     "output_type": "display_data"
    }
   ],
   "source": [
    "#investigation on which director that has become the most commercial successful movie\n",
    "director = c ('director')\n",
    "director.head(10).sort_values(ascending=True).plot(kind='barh')"
   ]
  },
  {
   "cell_type": "code",
   "execution_count": 35,
   "metadata": {},
   "outputs": [
    {
     "data": {
      "text/plain": [
       "<matplotlib.axes._subplots.AxesSubplot at 0x17304f8f8d0>"
      ]
     },
     "execution_count": 35,
     "metadata": {},
     "output_type": "execute_result"
    },
    {
     "data": {
      "image/png": "[encoded data removed]",
      "text/plain": [
       "<Figure size 432x288 with 1 Axes>"
      ]
     },
     "metadata": {},
     "output_type": "display_data"
    }
   ],
   "source": [
    "#investigation on what budget level is required to become the most commercial successful movie\n",
    "budget = c ('budget_level')\n",
    "budget.sort_values(ascending=True).plot(kind='barh')"
   ]
  },
  {
   "cell_type": "code",
   "execution_count": 36,
   "metadata": {},
   "outputs": [
    {
     "data": {
      "text/plain": [
       "111864878.6655652"
      ]
     },
     "execution_count": 36,
     "metadata": {},
     "output_type": "execute_result"
    }
   ],
   "source": [
    "com_success.query('budget_level == \"High\"')['budget_adj'].mean()"
   ]
  },
  {
   "cell_type": "code",
   "execution_count": 37,
   "metadata": {},
   "outputs": [
    {
     "data": {
      "text/plain": [
       "count    9.620000e+02\n",
       "mean     7.796980e+07\n",
       "std      5.698979e+07\n",
       "min      2.248000e+02\n",
       "25%      3.326143e+07\n",
       "50%      6.513842e+07\n",
       "75%      1.113717e+08\n",
       "max      3.683713e+08\n",
       "Name: budget_adj, dtype: float64"
      ]
     },
     "execution_count": 37,
     "metadata": {},
     "output_type": "execute_result"
    }
   ],
   "source": [
    "#To check if the mean of high budget value within the range of third quartile and max value\n",
    "com_success['budget_adj'].describe()"
   ]
  },
  {
   "cell_type": "code",
   "execution_count": 38,
   "metadata": {},
   "outputs": [
    {
     "data": {
      "text/plain": [
       "Text(0.5, 0.98, 'Recommended Movie Properties to be a Commercial Successful Movie')"
      ]
     },
     "execution_count": 38,
     "metadata": {},
     "output_type": "execute_result"
    },
    {
     "data": {
      "image/png": "[encoded data removed]",
      "text/plain": [
       "<Figure size 864x864 with 5 Axes>"
      ]
     },
     "metadata": {},
     "output_type": "display_data"
    }
   ],
   "source": [
    "fig = plt.figure()\n",
    "ax1= fig.add_subplot(2,3,1)\n",
    "ax2= fig.add_subplot(2,3,2)\n",
    "ax3= fig.add_subplot(2,3,3)\n",
    "ax4= fig.add_subplot(2,3,4)\n",
    "ax5= fig.add_subplot(2,3,5)\n",
    "\n",
    "fig.subplots_adjust(hspace=0.2, wspace=0.8)\n",
    "\n",
    "genre_count.head(5).sort_values(ascending=True).plot(kind='barh' , ax=ax3, title='Recommended Genre')\n",
    "cast_count.head(5).sort_values(ascending=True).plot(kind='barh', ax=ax2 , title='Recommended Cast')\n",
    "prod_comp.head(5).sort_values(ascending=True).plot(kind='barh',ax=ax1, title='Recommended Production Company')\n",
    "director.head(5).sort_values(ascending=True).plot(kind='barh',  ax=ax4, title='Recommended Director')\n",
    "budget.sort_values(ascending=True).plot(kind='barh', figsize=(12,12), ax=ax5, title='Recommended Budget Level')\n",
    "plt.suptitle('Recommended Movie Properties to be a Commercial Successful Movie')"
   ]
  },
  {
   "cell_type": "markdown",
   "metadata": {},
   "source": [
    "According to the above findings, there are 5 movie's properties that can be used as an indicator as a recommendation to be a commercial success movie. "
   ]
  },
  {
   "cell_type": "markdown",
   "metadata": {},
   "source": [
    "### Research Question 3: What are Top 15 favorite movies over the years?"
   ]
  },
  {
   "cell_type": "markdown",
   "metadata": {},
   "source": [
    "In this research question we would like to investigate the most favourite movies based on the vote value from the viewer. According to [IMDb](https://help.imdb.com/article/imdb/track-movies-tv/ratings-faq/G67Y87TFYYP6TWAV#), calculating the vote has to be done by using the weighted score through  'Bayesian estimate' method:\n",
    "\n",
    "weighted rating (WR) = (v ÷ (v+m)) × R + (m ÷ (v+m)) × C\n",
    "\n",
    "where\n",
    "\n",
    "- R = average for the movie (mean) = Vote Average\n",
    "- v = numbers of votes for the movies = Votes Counts\n",
    "- m = minimum votes required to be listed , using 90th Percentile\n",
    "- c = the mean vote across the whole report"
   ]
  },
  {
   "cell_type": "code",
   "execution_count": 39,
   "metadata": {},
   "outputs": [
    {
     "data": {
      "text/html": [
       "<div>\n",
       "<style scoped>\n",
       "    .dataframe tbody tr th:only-of-type {\n",
       "        vertical-align: middle;\n",
       "    }\n",
       "\n",
       "    .dataframe tbody tr th {\n",
       "        vertical-align: top;\n",
       "    }\n",
       "\n",
       "    .dataframe thead th {\n",
       "        text-align: right;\n",
       "    }\n",
       "</style>\n",
       "<table border=\"1\" class=\"dataframe\">\n",
       "  <thead>\n",
       "    <tr style=\"text-align: right;\">\n",
       "      <th></th>\n",
       "      <th>id</th>\n",
       "      <th>popularity</th>\n",
       "      <th>original_title</th>\n",
       "      <th>cast</th>\n",
       "      <th>director</th>\n",
       "      <th>runtime</th>\n",
       "      <th>genres</th>\n",
       "      <th>production_companies</th>\n",
       "      <th>release_date</th>\n",
       "      <th>vote_count</th>\n",
       "      <th>vote_average</th>\n",
       "      <th>release_year</th>\n",
       "      <th>budget_adj</th>\n",
       "      <th>revenue_adj</th>\n",
       "      <th>profit</th>\n",
       "      <th>budget_level</th>\n",
       "      <th>profit_level</th>\n",
       "    </tr>\n",
       "  </thead>\n",
       "  <tbody>\n",
       "    <tr>\n",
       "      <th>0</th>\n",
       "      <td>135397</td>\n",
       "      <td>32.985763</td>\n",
       "      <td>Jurassic World</td>\n",
       "      <td>Chris Pratt|Bryce Dallas Howard|Irrfan Khan|Vi...</td>\n",
       "      <td>Colin Trevorrow</td>\n",
       "      <td>124</td>\n",
       "      <td>Action|Adventure|Science Fiction|Thriller</td>\n",
       "      <td>Universal Studios|Amblin Entertainment|Legenda...</td>\n",
       "      <td>6/9/15</td>\n",
       "      <td>5562</td>\n",
       "      <td>6.5</td>\n",
       "      <td>2015</td>\n",
       "      <td>137999939.3</td>\n",
       "      <td>1.392446e+09</td>\n",
       "      <td>1.254446e+09</td>\n",
       "      <td>High</td>\n",
       "      <td>High</td>\n",
       "    </tr>\n",
       "  </tbody>\n",
       "</table>\n",
       "</div>"
      ],
      "text/plain": [
       "       id  popularity  original_title  \\\n",
       "0  135397   32.985763  Jurassic World   \n",
       "\n",
       "                                                cast         director  \\\n",
       "0  Chris Pratt|Bryce Dallas Howard|Irrfan Khan|Vi...  Colin Trevorrow   \n",
       "\n",
       "   runtime                                     genres  \\\n",
       "0      124  Action|Adventure|Science Fiction|Thriller   \n",
       "\n",
       "                                production_companies release_date  vote_count  \\\n",
       "0  Universal Studios|Amblin Entertainment|Legenda...       6/9/15        5562   \n",
       "\n",
       "   vote_average  release_year   budget_adj   revenue_adj        profit  \\\n",
       "0           6.5          2015  137999939.3  1.392446e+09  1.254446e+09   \n",
       "\n",
       "  budget_level profit_level  \n",
       "0         High         High  "
      ]
     },
     "execution_count": 39,
     "metadata": {},
     "output_type": "execute_result"
    }
   ],
   "source": [
    "df.head(1)"
   ]
  },
  {
   "cell_type": "code",
   "execution_count": 40,
   "metadata": {},
   "outputs": [
    {
     "data": {
      "text/plain": [
       "count    10731.000000\n",
       "mean       219.812972\n",
       "std        578.815324\n",
       "min         10.000000\n",
       "25%         17.000000\n",
       "50%         39.000000\n",
       "75%        148.000000\n",
       "max       9767.000000\n",
       "Name: vote_count, dtype: float64"
      ]
     },
     "execution_count": 40,
     "metadata": {},
     "output_type": "execute_result"
    }
   ],
   "source": [
    "df['vote_count'].describe()"
   ]
  },
  {
   "cell_type": "code",
   "execution_count": 41,
   "metadata": {},
   "outputs": [
    {
     "data": {
      "text/plain": [
       "519.0"
      ]
     },
     "execution_count": 41,
     "metadata": {},
     "output_type": "execute_result"
    }
   ],
   "source": [
    "#For minimun vote number we set 90th percentile in order to get higher threshold\n",
    "m = df['vote_count'].quantile(0.9)\n",
    "m"
   ]
  },
  {
   "cell_type": "code",
   "execution_count": 42,
   "metadata": {},
   "outputs": [
    {
     "data": {
      "text/plain": [
       "5.964709719504258"
      ]
     },
     "execution_count": 42,
     "metadata": {},
     "output_type": "execute_result"
    }
   ],
   "source": [
    "#The mean vote across the whole report\n",
    "c = df['vote_average'].mean()\n",
    "c"
   ]
  },
  {
   "cell_type": "code",
   "execution_count": 43,
   "metadata": {},
   "outputs": [],
   "source": [
    "#Weighted rating formula\n",
    "df['vote_wr']= (df.vote_count/(df.vote_count+m) * df.vote_average) + (m/(m+df.vote_count) * c)"
   ]
  },
  {
   "cell_type": "code",
   "execution_count": 44,
   "metadata": {},
   "outputs": [
    {
     "data": {
      "text/html": [
       "<div>\n",
       "<style scoped>\n",
       "    .dataframe tbody tr th:only-of-type {\n",
       "        vertical-align: middle;\n",
       "    }\n",
       "\n",
       "    .dataframe tbody tr th {\n",
       "        vertical-align: top;\n",
       "    }\n",
       "\n",
       "    .dataframe thead th {\n",
       "        text-align: right;\n",
       "    }\n",
       "</style>\n",
       "<table border=\"1\" class=\"dataframe\">\n",
       "  <thead>\n",
       "    <tr style=\"text-align: right;\">\n",
       "      <th></th>\n",
       "      <th>id</th>\n",
       "      <th>popularity</th>\n",
       "      <th>original_title</th>\n",
       "      <th>cast</th>\n",
       "      <th>director</th>\n",
       "      <th>runtime</th>\n",
       "      <th>genres</th>\n",
       "      <th>production_companies</th>\n",
       "      <th>release_date</th>\n",
       "      <th>vote_count</th>\n",
       "      <th>vote_average</th>\n",
       "      <th>release_year</th>\n",
       "      <th>budget_adj</th>\n",
       "      <th>revenue_adj</th>\n",
       "      <th>profit</th>\n",
       "      <th>budget_level</th>\n",
       "      <th>profit_level</th>\n",
       "      <th>vote_wr</th>\n",
       "    </tr>\n",
       "  </thead>\n",
       "  <tbody>\n",
       "    <tr>\n",
       "      <th>0</th>\n",
       "      <td>135397</td>\n",
       "      <td>32.985763</td>\n",
       "      <td>Jurassic World</td>\n",
       "      <td>Chris Pratt|Bryce Dallas Howard|Irrfan Khan|Vi...</td>\n",
       "      <td>Colin Trevorrow</td>\n",
       "      <td>124</td>\n",
       "      <td>Action|Adventure|Science Fiction|Thriller</td>\n",
       "      <td>Universal Studios|Amblin Entertainment|Legenda...</td>\n",
       "      <td>6/9/15</td>\n",
       "      <td>5562</td>\n",
       "      <td>6.5</td>\n",
       "      <td>2015</td>\n",
       "      <td>137999939.3</td>\n",
       "      <td>1.392446e+09</td>\n",
       "      <td>1.254446e+09</td>\n",
       "      <td>High</td>\n",
       "      <td>High</td>\n",
       "      <td>6.454314</td>\n",
       "    </tr>\n",
       "  </tbody>\n",
       "</table>\n",
       "</div>"
      ],
      "text/plain": [
       "       id  popularity  original_title  \\\n",
       "0  135397   32.985763  Jurassic World   \n",
       "\n",
       "                                                cast         director  \\\n",
       "0  Chris Pratt|Bryce Dallas Howard|Irrfan Khan|Vi...  Colin Trevorrow   \n",
       "\n",
       "   runtime                                     genres  \\\n",
       "0      124  Action|Adventure|Science Fiction|Thriller   \n",
       "\n",
       "                                production_companies release_date  vote_count  \\\n",
       "0  Universal Studios|Amblin Entertainment|Legenda...       6/9/15        5562   \n",
       "\n",
       "   vote_average  release_year   budget_adj   revenue_adj        profit  \\\n",
       "0           6.5          2015  137999939.3  1.392446e+09  1.254446e+09   \n",
       "\n",
       "  budget_level profit_level   vote_wr  \n",
       "0         High         High  6.454314  "
      ]
     },
     "execution_count": 44,
     "metadata": {},
     "output_type": "execute_result"
    }
   ],
   "source": [
    "df.head(1)"
   ]
  },
  {
   "cell_type": "code",
   "execution_count": 45,
   "metadata": {},
   "outputs": [],
   "source": [
    "#Create new column to combine title and year to simplify data visualization purpose\n",
    "df['title_and_year'] = (df['original_title'].astype('str') + ','+df['release_year'].astype('str'))"
   ]
  },
  {
   "cell_type": "code",
   "execution_count": 46,
   "metadata": {},
   "outputs": [
    {
     "data": {
      "text/html": [
       "<div>\n",
       "<style scoped>\n",
       "    .dataframe tbody tr th:only-of-type {\n",
       "        vertical-align: middle;\n",
       "    }\n",
       "\n",
       "    .dataframe tbody tr th {\n",
       "        vertical-align: top;\n",
       "    }\n",
       "\n",
       "    .dataframe thead th {\n",
       "        text-align: right;\n",
       "    }\n",
       "</style>\n",
       "<table border=\"1\" class=\"dataframe\">\n",
       "  <thead>\n",
       "    <tr style=\"text-align: right;\">\n",
       "      <th></th>\n",
       "      <th>title_and_year</th>\n",
       "      <th>vote_wr</th>\n",
       "    </tr>\n",
       "  </thead>\n",
       "  <tbody>\n",
       "    <tr>\n",
       "      <th>1</th>\n",
       "      <td>The Shawshank Redemption,1994</td>\n",
       "      <td>8.198515</td>\n",
       "    </tr>\n",
       "    <tr>\n",
       "      <th>2</th>\n",
       "      <td>The Godfather,1972</td>\n",
       "      <td>8.030003</td>\n",
       "    </tr>\n",
       "    <tr>\n",
       "      <th>3</th>\n",
       "      <td>The Dark Knight,2008</td>\n",
       "      <td>7.976191</td>\n",
       "    </tr>\n",
       "    <tr>\n",
       "      <th>4</th>\n",
       "      <td>Fight Club,1999</td>\n",
       "      <td>7.927970</td>\n",
       "    </tr>\n",
       "    <tr>\n",
       "      <th>5</th>\n",
       "      <td>Pulp Fiction,1994</td>\n",
       "      <td>7.910949</td>\n",
       "    </tr>\n",
       "    <tr>\n",
       "      <th>6</th>\n",
       "      <td>Forrest Gump,1994</td>\n",
       "      <td>7.893820</td>\n",
       "    </tr>\n",
       "    <tr>\n",
       "      <th>7</th>\n",
       "      <td>Interstellar,2014</td>\n",
       "      <td>7.849463</td>\n",
       "    </tr>\n",
       "    <tr>\n",
       "      <th>8</th>\n",
       "      <td>Inception,2010</td>\n",
       "      <td>7.802351</td>\n",
       "    </tr>\n",
       "    <tr>\n",
       "      <th>9</th>\n",
       "      <td>Whiplash,2014</td>\n",
       "      <td>7.798715</td>\n",
       "    </tr>\n",
       "    <tr>\n",
       "      <th>10</th>\n",
       "      <td>The Empire Strikes Back,1980</td>\n",
       "      <td>7.763846</td>\n",
       "    </tr>\n",
       "    <tr>\n",
       "      <th>11</th>\n",
       "      <td>Inside Out,2015</td>\n",
       "      <td>7.762839</td>\n",
       "    </tr>\n",
       "    <tr>\n",
       "      <th>12</th>\n",
       "      <td>Schindler's List,1993</td>\n",
       "      <td>7.748297</td>\n",
       "    </tr>\n",
       "    <tr>\n",
       "      <th>13</th>\n",
       "      <td>The Lord of the Rings: The Return of the King,...</td>\n",
       "      <td>7.736813</td>\n",
       "    </tr>\n",
       "    <tr>\n",
       "      <th>14</th>\n",
       "      <td>Guardians of the Galaxy,2014</td>\n",
       "      <td>7.736174</td>\n",
       "    </tr>\n",
       "    <tr>\n",
       "      <th>15</th>\n",
       "      <td>The Imitation Game,2014</td>\n",
       "      <td>7.735723</td>\n",
       "    </tr>\n",
       "  </tbody>\n",
       "</table>\n",
       "</div>"
      ],
      "text/plain": [
       "                                       title_and_year   vote_wr\n",
       "1                       The Shawshank Redemption,1994  8.198515\n",
       "2                                  The Godfather,1972  8.030003\n",
       "3                                The Dark Knight,2008  7.976191\n",
       "4                                     Fight Club,1999  7.927970\n",
       "5                                   Pulp Fiction,1994  7.910949\n",
       "6                                   Forrest Gump,1994  7.893820\n",
       "7                                   Interstellar,2014  7.849463\n",
       "8                                      Inception,2010  7.802351\n",
       "9                                       Whiplash,2014  7.798715\n",
       "10                       The Empire Strikes Back,1980  7.763846\n",
       "11                                    Inside Out,2015  7.762839\n",
       "12                              Schindler's List,1993  7.748297\n",
       "13  The Lord of the Rings: The Return of the King,...  7.736813\n",
       "14                       Guardians of the Galaxy,2014  7.736174\n",
       "15                            The Imitation Game,2014  7.735723"
      ]
     },
     "execution_count": 46,
     "metadata": {},
     "output_type": "execute_result"
    }
   ],
   "source": [
    "#Top 15 favourite movies based on the viewer's vote\n",
    "df=df.sort_values('vote_wr', ascending=False)\n",
    "\n",
    "#Reindex data from 1\n",
    "df.index = range(len(df))\n",
    "df.index = df.index + 1\n",
    "\n",
    "df[['title_and_year','vote_wr']].head(15)\n"
   ]
  },
  {
   "cell_type": "code",
   "execution_count": 47,
   "metadata": {},
   "outputs": [],
   "source": [
    "df_title_and_year = df[['title_and_year','vote_wr']].head(15)\n",
    "df_title_and_year.set_index('title_and_year' , inplace=True)"
   ]
  },
  {
   "cell_type": "code",
   "execution_count": 48,
   "metadata": {},
   "outputs": [
    {
     "data": {
      "text/plain": [
       "Text(0, 0.5, 'Movie Title and Release Year')"
      ]
     },
     "execution_count": 48,
     "metadata": {},
     "output_type": "execute_result"
    },
    {
     "data": {
      "image/png": "[encoded data removed]",
      "text/plain": [
       "<Figure size 432x288 with 1 Axes>"
      ]
     },
     "metadata": {},
     "output_type": "display_data"
    }
   ],
   "source": [
    "df_title_and_year.sort_values(by='vote_wr',ascending=True).plot(kind='barh' , legend=False).set_xlabel('Vote Score')\n",
    "plt.ylabel('Movie Title and Release Year')"
   ]
  },
  {
   "cell_type": "markdown",
   "metadata": {},
   "source": [
    "The above chart is showing the top 15 favourite movie since 1960's based on reviewers' vote and it's dominated by movies in the 1990's and 2000's"
   ]
  },
  {
   "cell_type": "markdown",
   "metadata": {},
   "source": [
    "### Research Question 4: Which Genres is the most commercial success among the generations?"
   ]
  },
  {
   "cell_type": "markdown",
   "metadata": {},
   "source": [
    "There is too many unique values for releast year, in order to minimize it,we can make a range according the generation's age range.\n",
    "\n",
    "Accodring to PEW research Center and Michael T.Robinson, there are at least generations up to now:\n",
    "\n",
    "The Silent Generation: Born 1928 - 1945\n",
    "- Baby Boomers: Born 1946 - 1964\n",
    "- Generation X: Born 1965 - 1980\n",
    "- Generation Y : Born 1981 - 1996\n",
    "- Generation Z / Alpha : 1997 - Present\n",
    "\n",
    "Source:\n",
    "\n",
    "[PEW Research Center Source](https://www.pewresearch.org/fact-tank/2019/01/17/where-millennials-end-and-generation-z-begins/)\n",
    "\n",
    "[Michael T.Robinson Source](https://www.careerplanner.com/Career-Articles/Generations.cfm)\n",
    "\n",
    "Since the release year data is avaiable from 1960, we are not including the silent generation in the range"
   ]
  },
  {
   "cell_type": "code",
   "execution_count": 49,
   "metadata": {},
   "outputs": [],
   "source": [
    "#Using bin to set the range for generation\n",
    "bin_genres = [1960,1965,1981,1997,2015]\n",
    "bin_genres_label=['Baby Boomers','Generation X','Generation Y','Generation Z / Alpha']"
   ]
  },
  {
   "cell_type": "markdown",
   "metadata": {},
   "source": [
    "Create new column to indicate Generation in the dataframe"
   ]
  },
  {
   "cell_type": "code",
   "execution_count": 50,
   "metadata": {},
   "outputs": [],
   "source": [
    "df_genres = df.copy()"
   ]
  },
  {
   "cell_type": "code",
   "execution_count": 51,
   "metadata": {},
   "outputs": [
    {
     "data": {
      "text/html": [
       "<div>\n",
       "<style scoped>\n",
       "    .dataframe tbody tr th:only-of-type {\n",
       "        vertical-align: middle;\n",
       "    }\n",
       "\n",
       "    .dataframe tbody tr th {\n",
       "        vertical-align: top;\n",
       "    }\n",
       "\n",
       "    .dataframe thead th {\n",
       "        text-align: right;\n",
       "    }\n",
       "</style>\n",
       "<table border=\"1\" class=\"dataframe\">\n",
       "  <thead>\n",
       "    <tr style=\"text-align: right;\">\n",
       "      <th></th>\n",
       "      <th>id</th>\n",
       "      <th>popularity</th>\n",
       "      <th>original_title</th>\n",
       "      <th>cast</th>\n",
       "      <th>director</th>\n",
       "      <th>runtime</th>\n",
       "      <th>genres</th>\n",
       "      <th>production_companies</th>\n",
       "      <th>release_date</th>\n",
       "      <th>vote_count</th>\n",
       "      <th>vote_average</th>\n",
       "      <th>release_year</th>\n",
       "      <th>budget_adj</th>\n",
       "      <th>revenue_adj</th>\n",
       "      <th>profit</th>\n",
       "      <th>budget_level</th>\n",
       "      <th>profit_level</th>\n",
       "      <th>vote_wr</th>\n",
       "      <th>title_and_year</th>\n",
       "      <th>generation</th>\n",
       "    </tr>\n",
       "  </thead>\n",
       "  <tbody>\n",
       "    <tr>\n",
       "      <th>1</th>\n",
       "      <td>278</td>\n",
       "      <td>7.192039</td>\n",
       "      <td>The Shawshank Redemption</td>\n",
       "      <td>Tim Robbins|Morgan Freeman|Bob Gunton|William ...</td>\n",
       "      <td>Frank Darabont</td>\n",
       "      <td>142</td>\n",
       "      <td>Drama|Crime</td>\n",
       "      <td>Castle Rock Entertainment</td>\n",
       "      <td>9/10/94</td>\n",
       "      <td>5754</td>\n",
       "      <td>8.4</td>\n",
       "      <td>1994</td>\n",
       "      <td>36777789.0</td>\n",
       "      <td>4.169346e+07</td>\n",
       "      <td>4.915674e+06</td>\n",
       "      <td>Moderately High</td>\n",
       "      <td>Medium</td>\n",
       "      <td>8.198515</td>\n",
       "      <td>The Shawshank Redemption,1994</td>\n",
       "      <td>Generation Y</td>\n",
       "    </tr>\n",
       "    <tr>\n",
       "      <th>2</th>\n",
       "      <td>238</td>\n",
       "      <td>5.738034</td>\n",
       "      <td>The Godfather</td>\n",
       "      <td>Marlon Brando|Al Pacino|James Caan|Richard S. ...</td>\n",
       "      <td>Francis Ford Coppola</td>\n",
       "      <td>175</td>\n",
       "      <td>Drama|Crime</td>\n",
       "      <td>Paramount Pictures|Alfran Productions</td>\n",
       "      <td>3/15/72</td>\n",
       "      <td>3970</td>\n",
       "      <td>8.3</td>\n",
       "      <td>1972</td>\n",
       "      <td>31287365.6</td>\n",
       "      <td>1.277914e+09</td>\n",
       "      <td>1.246626e+09</td>\n",
       "      <td>Moderately High</td>\n",
       "      <td>High</td>\n",
       "      <td>8.030003</td>\n",
       "      <td>The Godfather,1972</td>\n",
       "      <td>Generation X</td>\n",
       "    </tr>\n",
       "    <tr>\n",
       "      <th>3</th>\n",
       "      <td>155</td>\n",
       "      <td>8.466668</td>\n",
       "      <td>The Dark Knight</td>\n",
       "      <td>Christian Bale|Michael Caine|Heath Ledger|Aaro...</td>\n",
       "      <td>Christopher Nolan</td>\n",
       "      <td>152</td>\n",
       "      <td>Drama|Action|Crime|Thriller</td>\n",
       "      <td>DC Comics|Legendary Pictures|Warner Bros.|Syncopy</td>\n",
       "      <td>7/16/08</td>\n",
       "      <td>8432</td>\n",
       "      <td>8.1</td>\n",
       "      <td>2008</td>\n",
       "      <td>187365527.3</td>\n",
       "      <td>1.014733e+09</td>\n",
       "      <td>8.273675e+08</td>\n",
       "      <td>High</td>\n",
       "      <td>High</td>\n",
       "      <td>7.976191</td>\n",
       "      <td>The Dark Knight,2008</td>\n",
       "      <td>Generation Z / Alpha</td>\n",
       "    </tr>\n",
       "    <tr>\n",
       "      <th>4</th>\n",
       "      <td>550</td>\n",
       "      <td>8.947905</td>\n",
       "      <td>Fight Club</td>\n",
       "      <td>Edward Norton|Brad Pitt|Meat Loaf|Jared Leto|H...</td>\n",
       "      <td>David Fincher</td>\n",
       "      <td>139</td>\n",
       "      <td>Drama</td>\n",
       "      <td>Regency Enterprises|Fox 2000 Pictures|Taurus F...</td>\n",
       "      <td>10/14/99</td>\n",
       "      <td>5923</td>\n",
       "      <td>8.1</td>\n",
       "      <td>1999</td>\n",
       "      <td>82470329.3</td>\n",
       "      <td>1.320229e+08</td>\n",
       "      <td>4.955256e+07</td>\n",
       "      <td>High</td>\n",
       "      <td>Moderately High</td>\n",
       "      <td>7.927970</td>\n",
       "      <td>Fight Club,1999</td>\n",
       "      <td>Generation Z / Alpha</td>\n",
       "    </tr>\n",
       "    <tr>\n",
       "      <th>5</th>\n",
       "      <td>680</td>\n",
       "      <td>8.093754</td>\n",
       "      <td>Pulp Fiction</td>\n",
       "      <td>John Travolta|Samuel L. Jackson|Uma Thurman|Br...</td>\n",
       "      <td>Quentin Tarantino</td>\n",
       "      <td>154</td>\n",
       "      <td>Thriller|Crime</td>\n",
       "      <td>Miramax Films|A Band Apart|Jersey Films</td>\n",
       "      <td>10/14/94</td>\n",
       "      <td>5343</td>\n",
       "      <td>8.1</td>\n",
       "      <td>1994</td>\n",
       "      <td>11768892.5</td>\n",
       "      <td>3.147131e+08</td>\n",
       "      <td>3.029442e+08</td>\n",
       "      <td>Medium</td>\n",
       "      <td>High</td>\n",
       "      <td>7.910949</td>\n",
       "      <td>Pulp Fiction,1994</td>\n",
       "      <td>Generation Y</td>\n",
       "    </tr>\n",
       "  </tbody>\n",
       "</table>\n",
       "</div>"
      ],
      "text/plain": [
       "    id  popularity            original_title  \\\n",
       "1  278    7.192039  The Shawshank Redemption   \n",
       "2  238    5.738034             The Godfather   \n",
       "3  155    8.466668           The Dark Knight   \n",
       "4  550    8.947905                Fight Club   \n",
       "5  680    8.093754              Pulp Fiction   \n",
       "\n",
       "                                                cast              director  \\\n",
       "1  Tim Robbins|Morgan Freeman|Bob Gunton|William ...        Frank Darabont   \n",
       "2  Marlon Brando|Al Pacino|James Caan|Richard S. ...  Francis Ford Coppola   \n",
       "3  Christian Bale|Michael Caine|Heath Ledger|Aaro...     Christopher Nolan   \n",
       "4  Edward Norton|Brad Pitt|Meat Loaf|Jared Leto|H...         David Fincher   \n",
       "5  John Travolta|Samuel L. Jackson|Uma Thurman|Br...     Quentin Tarantino   \n",
       "\n",
       "   runtime                       genres  \\\n",
       "1      142                  Drama|Crime   \n",
       "2      175                  Drama|Crime   \n",
       "3      152  Drama|Action|Crime|Thriller   \n",
       "4      139                        Drama   \n",
       "5      154               Thriller|Crime   \n",
       "\n",
       "                                production_companies release_date  vote_count  \\\n",
       "1                          Castle Rock Entertainment      9/10/94        5754   \n",
       "2              Paramount Pictures|Alfran Productions      3/15/72        3970   \n",
       "3  DC Comics|Legendary Pictures|Warner Bros.|Syncopy      7/16/08        8432   \n",
       "4  Regency Enterprises|Fox 2000 Pictures|Taurus F...     10/14/99        5923   \n",
       "5            Miramax Films|A Band Apart|Jersey Films     10/14/94        5343   \n",
       "\n",
       "   vote_average  release_year   budget_adj   revenue_adj        profit  \\\n",
       "1           8.4          1994   36777789.0  4.169346e+07  4.915674e+06   \n",
       "2           8.3          1972   31287365.6  1.277914e+09  1.246626e+09   \n",
       "3           8.1          2008  187365527.3  1.014733e+09  8.273675e+08   \n",
       "4           8.1          1999   82470329.3  1.320229e+08  4.955256e+07   \n",
       "5           8.1          1994   11768892.5  3.147131e+08  3.029442e+08   \n",
       "\n",
       "      budget_level     profit_level   vote_wr                 title_and_year  \\\n",
       "1  Moderately High           Medium  8.198515  The Shawshank Redemption,1994   \n",
       "2  Moderately High             High  8.030003             The Godfather,1972   \n",
       "3             High             High  7.976191           The Dark Knight,2008   \n",
       "4             High  Moderately High  7.927970                Fight Club,1999   \n",
       "5           Medium             High  7.910949              Pulp Fiction,1994   \n",
       "\n",
       "             generation  \n",
       "1          Generation Y  \n",
       "2          Generation X  \n",
       "3  Generation Z / Alpha  \n",
       "4  Generation Z / Alpha  \n",
       "5          Generation Y  "
      ]
     },
     "execution_count": 51,
     "metadata": {},
     "output_type": "execute_result"
    }
   ],
   "source": [
    "df_genres['generation'] = pd.cut(df['release_year'], bin_genres, labels = bin_genres_label)\n",
    "df_genres.head()"
   ]
  },
  {
   "cell_type": "code",
   "execution_count": 52,
   "metadata": {},
   "outputs": [],
   "source": [
    "#query for baby boomers\n",
    "baby_boomers= df_genres.query('generation == \"Baby Boomers\"')\n",
    "\n",
    "#query for high profit only\n",
    "bb_profit = baby_boomers.query('profit_level == \"High\"')\n",
    "\n",
    "#Create function that will pick the genres data based on their appereance in the dataset for Baby Boomers \n",
    "def g(column):\n",
    "    #first step is to seperate '|' from the string\n",
    "    g = bb_profit[column].str.cat(sep = '|')\n",
    "    \n",
    "    ##set pandas to store the split value\n",
    "    g = pd.Series(g.split('|'))\n",
    "    \n",
    "    #displaying in descending order\n",
    "    bb_profit_count = g.value_counts(ascending = False)\n",
    "    \n",
    "    return bb_profit_count"
   ]
  },
  {
   "cell_type": "code",
   "execution_count": 53,
   "metadata": {},
   "outputs": [
    {
     "data": {
      "text/plain": [
       "Text(0.5, 1.0, 'The Most Commerical Success Genres in Baby Boomers Generation')"
      ]
     },
     "execution_count": 53,
     "metadata": {},
     "output_type": "execute_result"
    },
    {
     "data": {
      "image/png": "[encoded data removed]",
      "text/plain": [
       "<Figure size 432x288 with 1 Axes>"
      ]
     },
     "metadata": {},
     "output_type": "display_data"
    }
   ],
   "source": [
    "#Findings of the most commerical success genres in baby boomers generation\n",
    "bb_profit_count = g ('genres')\n",
    "\n",
    "#Plot bar chart for the most commerical success genres in baby boomers generation\n",
    "bb_profit_count.head(5).sort_values(ascending = True).plot(kind='barh')\n",
    "plt.title('The Most Commerical Success Genres in Baby Boomers Generation')"
   ]
  },
  {
   "cell_type": "code",
   "execution_count": 54,
   "metadata": {},
   "outputs": [],
   "source": [
    "#query for generation x\n",
    "generation_x = df_genres.query('generation == \"Generation X\"')\n",
    "#query for high profit only\n",
    "gx_profit = generation_x.query('profit_level == \"High\"')\n",
    "def h(column):\n",
    "    \n",
    "    h = gx_profit[column].str.cat(sep='|')\n",
    "    \n",
    "    h = pd.Series(h.split('|'))\n",
    "    \n",
    "    gx_profit_count = h.value_counts(ascending = False)\n",
    "    \n",
    "    return gx_profit_count"
   ]
  },
  {
   "cell_type": "code",
   "execution_count": 55,
   "metadata": {},
   "outputs": [
    {
     "data": {
      "text/plain": [
       "Text(0.5, 1.0, 'The Most Commerical Success Genres in Generation X')"
      ]
     },
     "execution_count": 55,
     "metadata": {},
     "output_type": "execute_result"
    },
    {
     "data": {
      "image/png": "[encoded data removed]",
      "text/plain": [
       "<Figure size 432x288 with 1 Axes>"
      ]
     },
     "metadata": {},
     "output_type": "display_data"
    }
   ],
   "source": [
    "#Findings of the most commerical success genres in generation x\n",
    "gx_profit_count = h ('genres')\n",
    "\n",
    "#plot bar chart for the most commerical success genres in generation x\n",
    "gx_profit_count.head(5).sort_values(ascending=True).plot(kind='barh')\n",
    "plt.title('The Most Commerical Success Genres in Generation X')\n"
   ]
  },
  {
   "cell_type": "code",
   "execution_count": 56,
   "metadata": {},
   "outputs": [],
   "source": [
    "#query for generation y\n",
    "generation_y = df_genres.query('generation == \"Generation Y\"')\n",
    "#query for high profit only\n",
    "gy_profit = generation_y.query('profit_level == \"High\"')\n",
    "\n",
    "def i (column):\n",
    "    i = gy_profit[column].str.cat(sep ='|')\n",
    "    \n",
    "    i = pd.Series(i.split ('|'))\n",
    "    \n",
    "    gy_profit_count = i.value_counts(ascending = False)\n",
    "    \n",
    "    return gy_profit_count\n"
   ]
  },
  {
   "cell_type": "code",
   "execution_count": 57,
   "metadata": {},
   "outputs": [
    {
     "data": {
      "text/plain": [
       "Text(0.5, 1.0, 'The Most Commerical Success Genres in Generation Y')"
      ]
     },
     "execution_count": 57,
     "metadata": {},
     "output_type": "execute_result"
    },
    {
     "data": {
      "image/png": "[encoded data removed]",
      "text/plain": [
       "<Figure size 432x288 with 1 Axes>"
      ]
     },
     "metadata": {},
     "output_type": "display_data"
    }
   ],
   "source": [
    "#Findings of the most commerical success genres in generation y\n",
    "gy_profit_count = i('genres')\n",
    "#Plot bar chart for The Most Commerical Success Genres in Generation Y\n",
    "gy_profit_count.head(5).sort_values(ascending = True).plot(kind='barh')\n",
    "plt.title('The Most Commerical Success Genres in Generation Y')"
   ]
  },
  {
   "cell_type": "code",
   "execution_count": 58,
   "metadata": {},
   "outputs": [],
   "source": [
    "#Query for generation z/alpha\n",
    "generation_z= df_genres.query('generation == \"Generation Z / Alpha\"')\n",
    "#query for high profit only\n",
    "gz_profit = generation_z.query('profit_level == \"High\"')\n",
    "def j (column):\n",
    "    \n",
    "    j = gz_profit[column].str.cat(sep = '|')\n",
    "    \n",
    "    j = pd.Series(j.split('|'))\n",
    "    \n",
    "    gz_profit_count = j.value_counts(ascending = False)\n",
    "    \n",
    "    return gz_profit_count\n"
   ]
  },
  {
   "cell_type": "code",
   "execution_count": 59,
   "metadata": {},
   "outputs": [
    {
     "data": {
      "text/plain": [
       "Text(0.5, 1.0, 'The Most Commerical Success Genres in Generation Z / Alpha')"
      ]
     },
     "execution_count": 59,
     "metadata": {},
     "output_type": "execute_result"
    },
    {
     "data": {
      "image/png": "[encoded data removed]",
      "text/plain": [
       "<Figure size 432x288 with 1 Axes>"
      ]
     },
     "metadata": {},
     "output_type": "display_data"
    }
   ],
   "source": [
    "#Findings of the most commerical success genres in generation z / alpha\n",
    "gz_profit_count = j ('genres')\n",
    "\n",
    "#Plot bar chart for The Most Commerical Success Genres in Generation Z / Alpha\n",
    "gz_profit_count.head(5).sort_values(ascending = True).plot(kind='barh')\n",
    "plt.title('The Most Commerical Success Genres in Generation Z / Alpha') "
   ]
  },
  {
   "cell_type": "code",
   "execution_count": 60,
   "metadata": {},
   "outputs": [
    {
     "data": {
      "text/html": [
       "<div>\n",
       "<style scoped>\n",
       "    .dataframe tbody tr th:only-of-type {\n",
       "        vertical-align: middle;\n",
       "    }\n",
       "\n",
       "    .dataframe tbody tr th {\n",
       "        vertical-align: top;\n",
       "    }\n",
       "\n",
       "    .dataframe thead th {\n",
       "        text-align: right;\n",
       "    }\n",
       "</style>\n",
       "<table border=\"1\" class=\"dataframe\">\n",
       "  <thead>\n",
       "    <tr style=\"text-align: right;\">\n",
       "      <th></th>\n",
       "      <th>id</th>\n",
       "      <th>popularity</th>\n",
       "      <th>original_title</th>\n",
       "      <th>cast</th>\n",
       "      <th>director</th>\n",
       "      <th>runtime</th>\n",
       "      <th>genres</th>\n",
       "      <th>production_companies</th>\n",
       "      <th>release_date</th>\n",
       "      <th>vote_count</th>\n",
       "      <th>vote_average</th>\n",
       "      <th>release_year</th>\n",
       "      <th>budget_adj</th>\n",
       "      <th>revenue_adj</th>\n",
       "      <th>profit</th>\n",
       "      <th>budget_level</th>\n",
       "      <th>profit_level</th>\n",
       "      <th>vote_wr</th>\n",
       "      <th>title_and_year</th>\n",
       "      <th>generation</th>\n",
       "    </tr>\n",
       "  </thead>\n",
       "  <tbody>\n",
       "    <tr>\n",
       "      <th>2</th>\n",
       "      <td>238</td>\n",
       "      <td>5.738034</td>\n",
       "      <td>The Godfather</td>\n",
       "      <td>Marlon Brando|Al Pacino|James Caan|Richard S. ...</td>\n",
       "      <td>Francis Ford Coppola</td>\n",
       "      <td>175</td>\n",
       "      <td>Drama|Crime</td>\n",
       "      <td>Paramount Pictures|Alfran Productions</td>\n",
       "      <td>3/15/72</td>\n",
       "      <td>3970</td>\n",
       "      <td>8.3</td>\n",
       "      <td>1972</td>\n",
       "      <td>31287365.6</td>\n",
       "      <td>1.277914e+09</td>\n",
       "      <td>1.246626e+09</td>\n",
       "      <td>Moderately High</td>\n",
       "      <td>High</td>\n",
       "      <td>8.030003</td>\n",
       "      <td>The Godfather,1972</td>\n",
       "      <td>Generation X</td>\n",
       "    </tr>\n",
       "    <tr>\n",
       "      <th>3</th>\n",
       "      <td>155</td>\n",
       "      <td>8.466668</td>\n",
       "      <td>The Dark Knight</td>\n",
       "      <td>Christian Bale|Michael Caine|Heath Ledger|Aaro...</td>\n",
       "      <td>Christopher Nolan</td>\n",
       "      <td>152</td>\n",
       "      <td>Drama|Action|Crime|Thriller</td>\n",
       "      <td>DC Comics|Legendary Pictures|Warner Bros.|Syncopy</td>\n",
       "      <td>7/16/08</td>\n",
       "      <td>8432</td>\n",
       "      <td>8.1</td>\n",
       "      <td>2008</td>\n",
       "      <td>187365527.3</td>\n",
       "      <td>1.014733e+09</td>\n",
       "      <td>8.273675e+08</td>\n",
       "      <td>High</td>\n",
       "      <td>High</td>\n",
       "      <td>7.976191</td>\n",
       "      <td>The Dark Knight,2008</td>\n",
       "      <td>Generation Z / Alpha</td>\n",
       "    </tr>\n",
       "    <tr>\n",
       "      <th>5</th>\n",
       "      <td>680</td>\n",
       "      <td>8.093754</td>\n",
       "      <td>Pulp Fiction</td>\n",
       "      <td>John Travolta|Samuel L. Jackson|Uma Thurman|Br...</td>\n",
       "      <td>Quentin Tarantino</td>\n",
       "      <td>154</td>\n",
       "      <td>Thriller|Crime</td>\n",
       "      <td>Miramax Films|A Band Apart|Jersey Films</td>\n",
       "      <td>10/14/94</td>\n",
       "      <td>5343</td>\n",
       "      <td>8.1</td>\n",
       "      <td>1994</td>\n",
       "      <td>11768892.5</td>\n",
       "      <td>3.147131e+08</td>\n",
       "      <td>3.029442e+08</td>\n",
       "      <td>Medium</td>\n",
       "      <td>High</td>\n",
       "      <td>7.910949</td>\n",
       "      <td>Pulp Fiction,1994</td>\n",
       "      <td>Generation Y</td>\n",
       "    </tr>\n",
       "    <tr>\n",
       "      <th>6</th>\n",
       "      <td>13</td>\n",
       "      <td>6.715966</td>\n",
       "      <td>Forrest Gump</td>\n",
       "      <td>Tom Hanks|Robin Wright|Gary Sinise|Mykelti Wil...</td>\n",
       "      <td>Robert Zemeckis</td>\n",
       "      <td>142</td>\n",
       "      <td>Comedy|Drama|Romance</td>\n",
       "      <td>Paramount Pictures</td>\n",
       "      <td>7/6/94</td>\n",
       "      <td>4856</td>\n",
       "      <td>8.1</td>\n",
       "      <td>1994</td>\n",
       "      <td>80911135.9</td>\n",
       "      <td>9.973333e+08</td>\n",
       "      <td>9.164222e+08</td>\n",
       "      <td>High</td>\n",
       "      <td>High</td>\n",
       "      <td>7.893820</td>\n",
       "      <td>Forrest Gump,1994</td>\n",
       "      <td>Generation Y</td>\n",
       "    </tr>\n",
       "    <tr>\n",
       "      <th>7</th>\n",
       "      <td>157336</td>\n",
       "      <td>24.949134</td>\n",
       "      <td>Interstellar</td>\n",
       "      <td>Matthew McConaughey|Jessica Chastain|Anne Hath...</td>\n",
       "      <td>Christopher Nolan</td>\n",
       "      <td>169</td>\n",
       "      <td>Adventure|Drama|Science Fiction</td>\n",
       "      <td>Paramount Pictures|Legendary Pictures|Warner B...</td>\n",
       "      <td>11/5/14</td>\n",
       "      <td>6498</td>\n",
       "      <td>8.0</td>\n",
       "      <td>2014</td>\n",
       "      <td>151980023.4</td>\n",
       "      <td>5.726906e+08</td>\n",
       "      <td>4.207106e+08</td>\n",
       "      <td>High</td>\n",
       "      <td>High</td>\n",
       "      <td>7.849463</td>\n",
       "      <td>Interstellar,2014</td>\n",
       "      <td>Generation Z / Alpha</td>\n",
       "    </tr>\n",
       "  </tbody>\n",
       "</table>\n",
       "</div>"
      ],
      "text/plain": [
       "       id  popularity   original_title  \\\n",
       "2     238    5.738034    The Godfather   \n",
       "3     155    8.466668  The Dark Knight   \n",
       "5     680    8.093754     Pulp Fiction   \n",
       "6      13    6.715966     Forrest Gump   \n",
       "7  157336   24.949134     Interstellar   \n",
       "\n",
       "                                                cast              director  \\\n",
       "2  Marlon Brando|Al Pacino|James Caan|Richard S. ...  Francis Ford Coppola   \n",
       "3  Christian Bale|Michael Caine|Heath Ledger|Aaro...     Christopher Nolan   \n",
       "5  John Travolta|Samuel L. Jackson|Uma Thurman|Br...     Quentin Tarantino   \n",
       "6  Tom Hanks|Robin Wright|Gary Sinise|Mykelti Wil...       Robert Zemeckis   \n",
       "7  Matthew McConaughey|Jessica Chastain|Anne Hath...     Christopher Nolan   \n",
       "\n",
       "   runtime                           genres  \\\n",
       "2      175                      Drama|Crime   \n",
       "3      152      Drama|Action|Crime|Thriller   \n",
       "5      154                   Thriller|Crime   \n",
       "6      142             Comedy|Drama|Romance   \n",
       "7      169  Adventure|Drama|Science Fiction   \n",
       "\n",
       "                                production_companies release_date  vote_count  \\\n",
       "2              Paramount Pictures|Alfran Productions      3/15/72        3970   \n",
       "3  DC Comics|Legendary Pictures|Warner Bros.|Syncopy      7/16/08        8432   \n",
       "5            Miramax Films|A Band Apart|Jersey Films     10/14/94        5343   \n",
       "6                                 Paramount Pictures       7/6/94        4856   \n",
       "7  Paramount Pictures|Legendary Pictures|Warner B...      11/5/14        6498   \n",
       "\n",
       "   vote_average  release_year   budget_adj   revenue_adj        profit  \\\n",
       "2           8.3          1972   31287365.6  1.277914e+09  1.246626e+09   \n",
       "3           8.1          2008  187365527.3  1.014733e+09  8.273675e+08   \n",
       "5           8.1          1994   11768892.5  3.147131e+08  3.029442e+08   \n",
       "6           8.1          1994   80911135.9  9.973333e+08  9.164222e+08   \n",
       "7           8.0          2014  151980023.4  5.726906e+08  4.207106e+08   \n",
       "\n",
       "      budget_level profit_level   vote_wr        title_and_year  \\\n",
       "2  Moderately High         High  8.030003    The Godfather,1972   \n",
       "3             High         High  7.976191  The Dark Knight,2008   \n",
       "5           Medium         High  7.910949     Pulp Fiction,1994   \n",
       "6             High         High  7.893820     Forrest Gump,1994   \n",
       "7             High         High  7.849463     Interstellar,2014   \n",
       "\n",
       "             generation  \n",
       "2          Generation X  \n",
       "3  Generation Z / Alpha  \n",
       "5          Generation Y  \n",
       "6          Generation Y  \n",
       "7  Generation Z / Alpha  "
      ]
     },
     "execution_count": 60,
     "metadata": {},
     "output_type": "execute_result"
    }
   ],
   "source": [
    "four_gen = df_genres.query('profit_level == \"High\"')\n",
    "four_gen.head()"
   ]
  },
  {
   "cell_type": "code",
   "execution_count": 61,
   "metadata": {},
   "outputs": [],
   "source": [
    "#Query for all generation with high profit\n",
    "four_gen = df_genres.query('profit_level == \"High\"')\n",
    "def k (column):\n",
    "    \n",
    "    k = four_gen[column].str.cat(sep = '|')\n",
    "    \n",
    "    k = pd.Series(k.split('|'))\n",
    "    \n",
    "    four_gen_count = k.value_counts(ascending = False)\n",
    "    \n",
    "    return four_gen_count"
   ]
  },
  {
   "cell_type": "code",
   "execution_count": 66,
   "metadata": {},
   "outputs": [
    {
     "data": {
      "text/plain": [
       "Text(0.5, 1.0, 'The Most Commerical Success Genres in All Generations')"
      ]
     },
     "execution_count": 66,
     "metadata": {},
     "output_type": "execute_result"
    },
    {
     "data": {
      "image/png": "[encoded data removed]",
      "text/plain": [
       "<Figure size 432x288 with 1 Axes>"
      ]
     },
     "metadata": {},
     "output_type": "display_data"
    }
   ],
   "source": [
    "four_gen_count = k('genres')\n",
    "four_gen_count.head(5).sort_values(ascending = True).plot(kind='barh')\n",
    "plt.title('The Most Commerical Success Genres in All Generations')"
   ]
  },
  {
   "cell_type": "code",
   "execution_count": 67,
   "metadata": {},
   "outputs": [
    {
     "data": {
      "text/plain": [
       "Text(0.5, 0.98, 'The Most Commercial Success Genres Through Generations')"
      ]
     },
     "execution_count": 67,
     "metadata": {},
     "output_type": "execute_result"
    },
    {
     "data": {
      "image/png": "[encoded data removed]",
      "text/plain": [
       "<Figure size 1152x720 with 5 Axes>"
      ]
     },
     "metadata": {},
     "output_type": "display_data"
    }
   ],
   "source": [
    "#Using subplot to plot all the charts in once\n",
    "fig = plt.figure()\n",
    "ax1= fig.add_subplot(2,3,1)\n",
    "ax2= fig.add_subplot(2,3,2)\n",
    "ax3= fig.add_subplot(2,3,3)\n",
    "ax4= fig.add_subplot(2,3,4)\n",
    "ax5= fig.add_subplot(2,3,5)\n",
    "\n",
    "#Setting the space in subplot\n",
    "fig.subplots_adjust(hspace=0.2, wspace=0.3)\n",
    "\n",
    "#Ploting the chart accroding to the ax number\n",
    "bb_profit_count.head(5).sort_values(ascending = True).plot(kind='barh', ax=ax3, title='Baby Boomers Generation')\n",
    "gx_profit_count.head(5).sort_values(ascending=True).plot(kind='barh', ax=ax2 , title='Generation X')\n",
    "gy_profit_count.head(5).sort_values(ascending = True).plot(kind='barh',ax=ax1, title='Generation Y')\n",
    "gz_profit_count.head(5).sort_values(ascending = True).plot(kind='barh',  ax=ax4, title='Generation Z / Alpha')\n",
    "four_gen_count.head(5).sort_values(ascending = True).plot(kind='barh', figsize=(16,10), ax=ax5, title='All Generations')\n",
    "plt.suptitle('The Most Commercial Success Genres Through Generations')"
   ]
  },
  {
   "cell_type": "markdown",
   "metadata": {},
   "source": [
    "The above data visualization are presenting the most commercial success genres in respect generations. As we can refer to the charts, the top commercial success genres are dominated by action, drama, comedy, adventure, and thriller in general. The generalization of commercial success genres in four generations is same with the most commercial success genres in the whole generations. This means those five genres are constantly in the top 5 genres from 1960's untill 2000's"
   ]
  },
  {
   "cell_type": "markdown",
   "metadata": {},
   "source": [
    "<a id='conclusions'></a>\n",
    "## Conclusions"
   ]
  },
  {
   "cell_type": "markdown",
   "metadata": {},
   "source": [
    "#### Q1: How is the popularity of movies over the years?"
   ]
  },
  {
   "cell_type": "markdown",
   "metadata": {
    "collapsed": true
   },
   "source": [
    "In this research question, I am investigating the popularity of movies from 1960’s until 2000’s by averaging the popularity score in each year. Based on the chart, it shows a positive trend which popularity of movies is increasing along the years. An interesting finding in this research question is there is a spike of increment on 2010 onwards. I believe this is due to the growth of internet that has been drastically increase after 2000. As generally known, several streaming platforms entered the industry after 2000’s such as Netflix, Amazon Prime Video, Youtube, Hulu, and others. Those platforms lead viewers have high accessibility to watch the movie. This finding indicates that film industry is growing exponentially along with the growth of internet in nowadays."
   ]
  },
  {
   "cell_type": "markdown",
   "metadata": {},
   "source": [
    "#### Q2: Findings Analysis - What are recommendation movie's properties to achieve commercial success?"
   ]
  },
  {
   "cell_type": "markdown",
   "metadata": {},
   "source": [
    "In this research question, the scope of investigation is narrowed down only for commercial success movie. Since as we know, there are numbers of failed movie even though it was produced with high budget and with famous casts and director. Therefore, the intention to conduct this investigation is to be able provide a recommendation what kind of movie’s properties that the industry need to consider before they produce a movie in order to be a commercial success. \n",
    "\n",
    "In this project, revenue and budget with adjusment value were used. Considering the inflation rate is critically important since we are investigating profit from the data in 1960's untill 2000's.\n",
    "Determination of commercial success is based on the profit by subtracting revenue with budget. Then I classify the profit into 4 subcategories, such as low (0-25%), medium (25-50%), moderately high (50 – 75%) and high (>75%).  This research question is only focused on high profit movies (75th Percentile). By using query, we can have the desired dataframe. Based on the new dataframe, the investigation can be done for each movie’s properties such production company, cast, genre, director, and budget level. Since the unique value in production movie, cast, director, and genres are repetitive in each row, we need to gather the value based on the number of appearances in the whole dataset. By only selecting top 5 value of each movie properties, the recommendation can be used to produce a commercial success movie in the future. \n",
    "\n",
    "Those recommended movie's properties are:\n",
    "\n",
    "**1.Recommended Production Movie:**\n",
    "- Warner Bros\n",
    "- Universal Pictures\n",
    "- Paramount Pictures\n",
    "- Twentieth Century Fox Film Corp\n",
    "- Walt Disney Pictures\n",
    "\n",
    "**2.Recommended Cast:**\n",
    "- Tom Cruise \n",
    "- Tom Hanks\n",
    "- Brad Pitt\n",
    "- Adam Sandler\n",
    "- Sylvester Stallone\n",
    "\n",
    "**3.Recommended Genre:**\n",
    "- Action\n",
    "- Comedy\n",
    "- Drama\n",
    "- Adventure \n",
    "- Thriller\n",
    "\n",
    "**4.Recommended Director:**\n",
    "- Steve Spielberg\n",
    "- Robert Zemeckis\n",
    "- Clint Eastwood\n",
    "- Ron Howard\n",
    "- Michael Bay\n",
    "\n",
    "**5.Recommended Movie budget:**\n",
    "- To have a commercial successfull movie, to production movie is suggested to have a high budget with an average of $ 111,864,878\n"
   ]
  },
  {
   "cell_type": "markdown",
   "metadata": {},
   "source": [
    "#### Q3: Findings Analysis - What are Top 15 favourite movies over the years?"
   ]
  },
  {
   "cell_type": "markdown",
   "metadata": {},
   "source": [
    "In this research question, we are interested to investigate the most favorite movies based on the viewer’s vote. Since the number of vote for each movie is not equivalent, we can’t take the vote average to determine the favorite movie. Based on the IMDb, the right method to calculate favorite movie is by using weighted rating (Bayesian Method). Based on this weighted average, the top 15 favorite movies can be investigated."
   ]
  },
  {
   "cell_type": "markdown",
   "metadata": {},
   "source": [
    "#### Q4: Findings Analysis - Which Genres is the most popular among the generations?"
   ]
  },
  {
   "cell_type": "markdown",
   "metadata": {},
   "source": [
    "This research question aims to support a recommendation of recommended genre in the second research question. Since the recommended genre based on high profit movies was done based on the whole generation, this research question is testing the consistency of those 5 recommended genres through generation by generation. According the given data, there are 4 generation been set. The finding shows that **action, drama, comedy, adventure, and thriller** are the most frequent genres that appear as the most commercial success throughout the generations."
   ]
  },
  {
   "cell_type": "markdown",
   "metadata": {},
   "source": [
    "### Limitation"
   ]
  },
  {
   "cell_type": "markdown",
   "metadata": {},
   "source": [
    "1.Revenue and Budget Data Quality\n",
    "- Since there are numerous zero data, we can’t remove it by considering the quality of dataset. This recommendation is not quite precise since almost 50% of the value is filled by Nan value, thus it tends to create a bias.\n",
    "\n",
    "2.Keywords\n",
    "- This project is not using keywords data as a research instrument due to limitation of researcher’s knowledge. Further research will be recommended to use keywords data as resourceful instrument to create a prediction for machine learning. \n",
    "\n",
    "3.Recommendation Time Frame\n",
    "- The accuracy of the recommendation based on the several movie's properties such as cast and director could be affected by age factor\n"
   ]
  },
  {
   "cell_type": "code",
   "execution_count": null,
   "metadata": {},
   "outputs": [],
   "source": []
  }
 ],
 "metadata": {
  "kernelspec": {
   "display_name": "Python 3",
   "language": "python",
   "name": "python3"
  },
  "language_info": {
   "codemirror_mode": {
    "name": "ipython",
    "version": 3
   },
   "file_extension": ".py",
   "mimetype": "text/x-python",
   "name": "python",
   "nbconvert_exporter": "python",
   "pygments_lexer": "ipython3",
   "version": "3.7.3"
  }
 },
 "nbformat": 4,
 "nbformat_minor": 2
}
